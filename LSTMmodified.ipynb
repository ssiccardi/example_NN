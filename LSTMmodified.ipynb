{
 "cells": [
  {
   "cell_type": "code",
   "execution_count": 124,
   "metadata": {},
   "outputs": [],
   "source": [
    " # This Python 3 environment comes with many helpful analytics libraries installed\n",
    "# It is defined by the kaggle/python docker image: https://github.com/kaggle/docker-python\n",
    "# For example, here's several helpful packages to load in \n",
    "\n",
    "import numpy as np # linear algebra\n",
    "import pandas as pd # data processing, CSV file I/O (e.g. pd.read_csv)\n",
    "from  sklearn.metrics import mean_squared_error\n",
    "\n",
    "# I transformed the txt files into csv just because they are a bit simpler to manage\n",
    "# added the title row at the beginning: \"time\" \"velocity\" \"force\"\n",
    "# I use only numerical_data.csv to train, and experimental_data.csv to test the model,\n",
    "# If you think that it is better you can merge the files (but then you will have to find other data\n",
    "# to test th model), or swap them (train with experimental and test with numerical data)\n",
    "\n",
    "train = pd.read_csv(\"numerical_data.csv\", sep=\",\")"
   ]
  },
  {
   "cell_type": "code",
   "execution_count": 125,
   "metadata": {},
   "outputs": [
    {
     "data": {
      "text/plain": [
       "(30001, 3)"
      ]
     },
     "execution_count": 125,
     "metadata": {},
     "output_type": "execute_result"
    }
   ],
   "source": [
    " train.shape"
   ]
  },
  {
   "cell_type": "code",
   "execution_count": 126,
   "metadata": {},
   "outputs": [
    {
     "data": {
      "text/html": [
       "<div>\n",
       "<style scoped>\n",
       "    .dataframe tbody tr th:only-of-type {\n",
       "        vertical-align: middle;\n",
       "    }\n",
       "\n",
       "    .dataframe tbody tr th {\n",
       "        vertical-align: top;\n",
       "    }\n",
       "\n",
       "    .dataframe thead th {\n",
       "        text-align: right;\n",
       "    }\n",
       "</style>\n",
       "<table border=\"1\" class=\"dataframe\">\n",
       "  <thead>\n",
       "    <tr style=\"text-align: right;\">\n",
       "      <th></th>\n",
       "      <th>time</th>\n",
       "      <th>velocity</th>\n",
       "      <th>force</th>\n",
       "    </tr>\n",
       "  </thead>\n",
       "  <tbody>\n",
       "    <tr>\n",
       "      <th>0</th>\n",
       "      <td>0.000</td>\n",
       "      <td>0.000000e+00</td>\n",
       "      <td>-0.000017</td>\n",
       "    </tr>\n",
       "    <tr>\n",
       "      <th>1</th>\n",
       "      <td>0.001</td>\n",
       "      <td>-7.040000e-09</td>\n",
       "      <td>-0.000017</td>\n",
       "    </tr>\n",
       "    <tr>\n",
       "      <th>2</th>\n",
       "      <td>0.002</td>\n",
       "      <td>-7.650000e-05</td>\n",
       "      <td>0.006806</td>\n",
       "    </tr>\n",
       "    <tr>\n",
       "      <th>3</th>\n",
       "      <td>0.003</td>\n",
       "      <td>-2.157000e-04</td>\n",
       "      <td>0.019206</td>\n",
       "    </tr>\n",
       "    <tr>\n",
       "      <th>4</th>\n",
       "      <td>0.004</td>\n",
       "      <td>-4.113000e-04</td>\n",
       "      <td>0.036630</td>\n",
       "    </tr>\n",
       "  </tbody>\n",
       "</table>\n",
       "</div>"
      ],
      "text/plain": [
       "    time      velocity     force\n",
       "0  0.000  0.000000e+00 -0.000017\n",
       "1  0.001 -7.040000e-09 -0.000017\n",
       "2  0.002 -7.650000e-05  0.006806\n",
       "3  0.003 -2.157000e-04  0.019206\n",
       "4  0.004 -4.113000e-04  0.036630"
      ]
     },
     "execution_count": 126,
     "metadata": {},
     "output_type": "execute_result"
    }
   ],
   "source": [
    "train.head() "
   ]
  },
  {
   "cell_type": "code",
   "execution_count": 127,
   "metadata": {},
   "outputs": [
    {
     "data": {
      "text/plain": [
       "time        float64\n",
       "velocity    float64\n",
       "force       float64\n",
       "dtype: object"
      ]
     },
     "execution_count": 127,
     "metadata": {},
     "output_type": "execute_result"
    }
   ],
   "source": [
    " train.dtypes"
   ]
  },
  {
   "cell_type": "code",
   "execution_count": 128,
   "metadata": {},
   "outputs": [
    {
     "data": {
      "text/html": [
       "<div>\n",
       "<style scoped>\n",
       "    .dataframe tbody tr th:only-of-type {\n",
       "        vertical-align: middle;\n",
       "    }\n",
       "\n",
       "    .dataframe tbody tr th {\n",
       "        vertical-align: top;\n",
       "    }\n",
       "\n",
       "    .dataframe thead th {\n",
       "        text-align: right;\n",
       "    }\n",
       "</style>\n",
       "<table border=\"1\" class=\"dataframe\">\n",
       "  <thead>\n",
       "    <tr style=\"text-align: right;\">\n",
       "      <th></th>\n",
       "      <th>time</th>\n",
       "      <th>velocity</th>\n",
       "      <th>force</th>\n",
       "    </tr>\n",
       "  </thead>\n",
       "  <tbody>\n",
       "    <tr>\n",
       "      <th>time</th>\n",
       "      <td>1.00000</td>\n",
       "      <td>-0.014960</td>\n",
       "      <td>0.014950</td>\n",
       "    </tr>\n",
       "    <tr>\n",
       "      <th>velocity</th>\n",
       "      <td>-0.01496</td>\n",
       "      <td>1.000000</td>\n",
       "      <td>-0.999996</td>\n",
       "    </tr>\n",
       "    <tr>\n",
       "      <th>force</th>\n",
       "      <td>0.01495</td>\n",
       "      <td>-0.999996</td>\n",
       "      <td>1.000000</td>\n",
       "    </tr>\n",
       "  </tbody>\n",
       "</table>\n",
       "</div>"
      ],
      "text/plain": [
       "             time  velocity     force\n",
       "time      1.00000 -0.014960  0.014950\n",
       "velocity -0.01496  1.000000 -0.999996\n",
       "force     0.01495 -0.999996  1.000000"
      ]
     },
     "execution_count": 128,
     "metadata": {},
     "output_type": "execute_result"
    }
   ],
   "source": [
    "train.corr()\n"
   ]
  },
  {
   "cell_type": "code",
   "execution_count": 129,
   "metadata": {},
   "outputs": [],
   "source": [
    "#from sklearn.preprocessing import StandardScaler"
   ]
  },
  {
   "cell_type": "code",
   "execution_count": 130,
   "metadata": {},
   "outputs": [],
   "source": [
    "from sklearn.preprocessing import MinMaxScaler"
   ]
  },
  {
   "cell_type": "code",
   "execution_count": 131,
   "metadata": {},
   "outputs": [],
   "source": [
    "enc1=MinMaxScaler(feature_range=(0,1))\n",
    "# I added explicitly the range even if it's default\n",
    "timestep = 10  # for Reshape_input etc."
   ]
  },
  {
   "cell_type": "code",
   "execution_count": 132,
   "metadata": {},
   "outputs": [],
   "source": [
    "def Reshape_input(train,transform_only):\n",
    "    # timestep = 10 moved outside, so if you change it you can adjust everything\n",
    "    \n",
    "    # I applied transform to y too\n",
    "    # Important points about LSTM models:\n",
    "    # - they predict time series: given n measures (e.g. 10 ) at time t1...tn \n",
    "    #     they compute pred. measure at time tn+1 (e.g. at t=11)\n",
    "    # - so the \"features\" are the n measures and the \"label\" is the n+1th measure (sliding along the data)\n",
    "    # - quite often they are used with time series consisting of 1 measure only, but we have 2 \n",
    "    #     (velocity and force)\n",
    "    # - so we have to use a 2-dimensional time series, and also velocities will be predicted...\n",
    "    \n",
    "    #X ,y = train.iloc[:,:1],train.iloc[timestep:,2]\n",
    "    X = train.iloc[:,1:]\n",
    "    if transform_only:\n",
    "        X= enc1.transform(X)\n",
    "    else:\n",
    "        X= enc1.fit_transform(X)\n",
    "    X_3d = np.zeros((X.shape[0]-timestep,timestep,X.shape[1]))\n",
    "    y = np.zeros((X.shape[0]-timestep,X.shape[1]))\n",
    "    print(y.shape)\n",
    "    \n",
    "    for i in range(X_3d.shape[0]):\n",
    "        X_3d[i,:,:] = X[i:i+timestep,:]\n",
    "        y[i,:] = X[i+timestep,:]\n",
    "    return enc1, X_3d, y\n"
   ]
  },
  {
   "cell_type": "code",
   "execution_count": 133,
   "metadata": {},
   "outputs": [
    {
     "name": "stdout",
     "output_type": "stream",
     "text": [
      "(29991, 2)\n"
     ]
    }
   ],
   "source": [
    "enc1, X, y = Reshape_input(train,transform_only=False)"
   ]
  },
  {
   "cell_type": "code",
   "execution_count": 134,
   "metadata": {},
   "outputs": [
    {
     "data": {
      "text/plain": [
       "(29991, 10, 2)"
      ]
     },
     "execution_count": 134,
     "metadata": {},
     "output_type": "execute_result"
    }
   ],
   "source": [
    "X.shape"
   ]
  },
  {
   "cell_type": "code",
   "execution_count": 135,
   "metadata": {},
   "outputs": [
    {
     "name": "stdout",
     "output_type": "stream",
     "text": [
      "[[[0.49957592 0.49934961]\n",
      "  [0.4995759  0.49934963]\n",
      "  [0.4993183  0.49960732]\n",
      "  [0.49884953 0.50007562]\n",
      "  [0.49819083 0.5007337 ]\n",
      "  [0.49734995 0.50157359]\n",
      "  [0.49632856 0.50259364]\n",
      "  [0.49512633 0.5037954 ]\n",
      "  [0.49374158 0.50518214]\n",
      "  [0.49217229 0.50675791]]\n",
      "\n",
      " [[0.4995759  0.49934963]\n",
      "  [0.4993183  0.49960732]\n",
      "  [0.49884953 0.50007562]\n",
      "  [0.49819083 0.5007337 ]\n",
      "  [0.49734995 0.50157359]\n",
      "  [0.49632856 0.50259364]\n",
      "  [0.49512633 0.5037954 ]\n",
      "  [0.49374158 0.50518214]\n",
      "  [0.49217229 0.50675791]\n",
      "  [0.49041744 0.50852651]]]\n"
     ]
    }
   ],
   "source": [
    "print(X[0:2]) # to see that actually the 10 values \"slide\""
   ]
  },
  {
   "cell_type": "code",
   "execution_count": 136,
   "metadata": {},
   "outputs": [
    {
     "data": {
      "text/plain": [
       "(29991, 2)"
      ]
     },
     "execution_count": 136,
     "metadata": {},
     "output_type": "execute_result"
    }
   ],
   "source": [
    "y.shape"
   ]
  },
  {
   "cell_type": "code",
   "execution_count": 137,
   "metadata": {},
   "outputs": [
    {
     "name": "stdout",
     "output_type": "stream",
     "text": [
      "[[0.49041744 0.50852651]\n",
      " [0.48847637 0.51048979]]\n"
     ]
    }
   ],
   "source": [
    "print(y[0:2])  # to check that the 1st value is the 11th"
   ]
  },
  {
   "cell_type": "code",
   "execution_count": 138,
   "metadata": {},
   "outputs": [],
   "source": [
    "from keras.models import Sequential\n",
    "from keras.layers import *\n",
    "from keras.layers import LSTM\n",
    "from keras.layers import Activation\n",
    "from keras.optimizers import Adam, SGD\n",
    "from keras.callbacks import *\n",
    "model = Sequential()\n",
    "# I did not change the model here, just make some small experiments. \n",
    "# Probably you should compare the model and parameters to the ones you used in Matlab, and tune them a bit...\n",
    "# I tried also with recurrent_dropout = 0.1 (no better results)\n",
    "model.add(LSTM(18, input_shape=(X.shape[1], X.shape[2]), recurrent_dropout= 0))\n",
    "# From your messages I'd expect only the LSTM and one Dense for output, but I did not change here\n",
    "model.add(Dense(18,kernel_initializer='normal',activation='relu'))\n",
    "model.add(Dropout(0))\n",
    "# Here we need 2 because our data are velocity AND force!\n",
    "model.add(Dense(2))\n",
    "model.add(Dense(2,activation='linear'))\n",
    "# Iadded explicit lr to Adam optimizer, tried several values and \n",
    "#   varied also min_lr accordingly in ReduceRLOnPlateau; \n",
    "# I tried also with SGD (no better results)\n",
    "model.compile(Adam(lr=0.01), loss='mean_squared_error')\n",
    "\n",
    "checkpoint = ModelCheckpoint(filepath='model_lstm_yusra_weights.hdfs', save_weights_only=True,\n",
    "                             monitor='val_loss',save_best_only=True)\n",
    "EarlyStop = EarlyStopping(monitor='val_loss', min_delta=0, patience=4,\n",
    "                          verbose=0, mode='auto')\n",
    "# tried also with smaller min_lr\n",
    "RL = ReduceLROnPlateau(min_lr=0.0001,factor=0.3,patience=3)"
   ]
  },
  {
   "cell_type": "code",
   "execution_count": 139,
   "metadata": {},
   "outputs": [
    {
     "name": "stdout",
     "output_type": "stream",
     "text": [
      "Train on 22493 samples, validate on 7498 samples\n",
      "Epoch 1/100\n",
      "22493/22493 [==============================] - 4s 157us/step - loss: 0.0178 - val_loss: 0.0058\n",
      "Epoch 2/100\n",
      "22493/22493 [==============================] - 3s 122us/step - loss: 0.0058 - val_loss: 3.8193e-04\n",
      "Epoch 3/100\n",
      "22493/22493 [==============================] - 3s 122us/step - loss: 7.0053e-04 - val_loss: 4.3057e-04\n",
      "Epoch 4/100\n",
      "22493/22493 [==============================] - 3s 123us/step - loss: 4.2131e-04 - val_loss: 8.0461e-04\n",
      "Epoch 5/100\n",
      "22493/22493 [==============================] - 3s 130us/step - loss: 6.9490e-04 - val_loss: 0.0016\n",
      "Epoch 6/100\n",
      "22493/22493 [==============================] - 3s 122us/step - loss: 4.2453e-04 - val_loss: 1.7636e-04\n",
      "Epoch 7/100\n",
      "22493/22493 [==============================] - 3s 124us/step - loss: 3.3685e-04 - val_loss: 0.0017\n",
      "Epoch 8/100\n",
      "22493/22493 [==============================] - 3s 124us/step - loss: 3.3665e-04 - val_loss: 0.0016\n",
      "Epoch 9/100\n",
      "22493/22493 [==============================] - 3s 124us/step - loss: 3.2798e-04 - val_loss: 0.0014\n",
      "Epoch 10/100\n",
      "22493/22493 [==============================] - 3s 124us/step - loss: 7.2489e-05 - val_loss: 1.5277e-05\n",
      "Epoch 11/100\n",
      "22493/22493 [==============================] - 3s 125us/step - loss: 1.3574e-05 - val_loss: 1.9486e-05\n",
      "Epoch 12/100\n",
      "22493/22493 [==============================] - 3s 126us/step - loss: 1.6081e-05 - val_loss: 9.2564e-05\n",
      "Epoch 13/100\n",
      "22493/22493 [==============================] - 3s 125us/step - loss: 3.3625e-05 - val_loss: 2.9782e-04\n",
      "Epoch 14/100\n",
      "22493/22493 [==============================] - 3s 126us/step - loss: 1.5029e-05 - val_loss: 8.9530e-06\n",
      "Epoch 15/100\n",
      "22493/22493 [==============================] - 3s 130us/step - loss: 8.5589e-06 - val_loss: 9.4353e-06\n",
      "Epoch 16/100\n",
      "22493/22493 [==============================] - 3s 127us/step - loss: 8.5619e-06 - val_loss: 1.2067e-05\n",
      "Epoch 17/100\n",
      "22493/22493 [==============================] - 3s 135us/step - loss: 7.1386e-06 - val_loss: 7.0988e-06\n",
      "Epoch 18/100\n",
      "22493/22493 [==============================] - 3s 136us/step - loss: 6.9136e-06 - val_loss: 6.9599e-06\n",
      "Epoch 19/100\n",
      "22493/22493 [==============================] - 3s 130us/step - loss: 6.7744e-06 - val_loss: 6.8064e-06\n",
      "Epoch 20/100\n",
      "22493/22493 [==============================] - 3s 129us/step - loss: 6.6150e-06 - val_loss: 6.6678e-06\n",
      "Epoch 21/100\n",
      "22493/22493 [==============================] - 3s 130us/step - loss: 6.4605e-06 - val_loss: 6.5404e-06\n",
      "Epoch 22/100\n",
      "22493/22493 [==============================] - 3s 130us/step - loss: 6.3110e-06 - val_loss: 6.4164e-06\n",
      "Epoch 23/100\n",
      "22493/22493 [==============================] - 3s 131us/step - loss: 6.1707e-06 - val_loss: 6.3044e-06\n",
      "Epoch 24/100\n",
      "22493/22493 [==============================] - 3s 133us/step - loss: 6.0393e-06 - val_loss: 6.1890e-06\n",
      "Epoch 25/100\n",
      "22493/22493 [==============================] - 3s 135us/step - loss: 5.9132e-06 - val_loss: 6.0867e-06\n",
      "Epoch 26/100\n",
      "22493/22493 [==============================] - 3s 128us/step - loss: 5.7956e-06 - val_loss: 5.9938e-06\n",
      "Epoch 27/100\n",
      "22493/22493 [==============================] - 3s 137us/step - loss: 5.6865e-06 - val_loss: 5.9065e-06\n",
      "Epoch 28/100\n",
      "22493/22493 [==============================] - 3s 131us/step - loss: 5.5845e-06 - val_loss: 5.8247e-06\n",
      "Epoch 29/100\n",
      "22493/22493 [==============================] - 3s 130us/step - loss: 5.4879e-06 - val_loss: 5.7463e-06\n",
      "Epoch 30/100\n",
      "22493/22493 [==============================] - 3s 129us/step - loss: 5.3964e-06 - val_loss: 5.6724e-06\n",
      "Epoch 31/100\n",
      "22493/22493 [==============================] - 3s 132us/step - loss: 5.3088e-06 - val_loss: 5.6026e-06\n",
      "Epoch 32/100\n",
      "22493/22493 [==============================] - 3s 131us/step - loss: 5.2248e-06 - val_loss: 5.5337e-06\n",
      "Epoch 33/100\n",
      "22493/22493 [==============================] - 3s 131us/step - loss: 5.1441e-06 - val_loss: 5.4699e-06\n",
      "Epoch 34/100\n",
      "22493/22493 [==============================] - 3s 137us/step - loss: 5.0661e-06 - val_loss: 5.4048e-06\n",
      "Epoch 35/100\n",
      "22493/22493 [==============================] - 3s 131us/step - loss: 4.9902e-06 - val_loss: 5.3439e-06\n",
      "Epoch 36/100\n",
      "22493/22493 [==============================] - 3s 132us/step - loss: 4.9158e-06 - val_loss: 5.2855e-06\n",
      "Epoch 37/100\n",
      "22493/22493 [==============================] - 3s 130us/step - loss: 4.8428e-06 - val_loss: 5.2250e-06\n",
      "Epoch 38/100\n",
      "22493/22493 [==============================] - 3s 133us/step - loss: 4.7714e-06 - val_loss: 5.1657e-06\n",
      "Epoch 39/100\n",
      "22493/22493 [==============================] - 3s 132us/step - loss: 4.6991e-06 - val_loss: 5.1043e-06\n",
      "Epoch 40/100\n",
      "22493/22493 [==============================] - 3s 133us/step - loss: 4.6270e-06 - val_loss: 5.0443e-06\n",
      "Epoch 41/100\n",
      "22493/22493 [==============================] - 3s 137us/step - loss: 4.5553e-06 - val_loss: 4.9876e-06\n",
      "Epoch 42/100\n",
      "22493/22493 [==============================] - 3s 131us/step - loss: 4.4839e-06 - val_loss: 4.9291e-06\n",
      "Epoch 43/100\n",
      "22493/22493 [==============================] - 3s 133us/step - loss: 4.4141e-06 - val_loss: 4.8721e-06\n",
      "Epoch 44/100\n",
      "22493/22493 [==============================] - 3s 132us/step - loss: 4.3446e-06 - val_loss: 4.8148e-06\n",
      "Epoch 45/100\n",
      "22493/22493 [==============================] - 3s 132us/step - loss: 4.2752e-06 - val_loss: 4.7565e-06\n",
      "Epoch 46/100\n",
      "22493/22493 [==============================] - 3s 131us/step - loss: 4.2040e-06 - val_loss: 4.6981e-06\n",
      "Epoch 47/100\n",
      "22493/22493 [==============================] - 3s 136us/step - loss: 4.1321e-06 - val_loss: 4.6397e-06\n",
      "Epoch 48/100\n",
      "22493/22493 [==============================] - 3s 140us/step - loss: 4.0610e-06 - val_loss: 4.5816e-06\n",
      "Epoch 49/100\n",
      "22493/22493 [==============================] - 3s 133us/step - loss: 3.9894e-06 - val_loss: 4.5179e-06\n",
      "Epoch 50/100\n",
      "22493/22493 [==============================] - 3s 133us/step - loss: 3.9179e-06 - val_loss: 4.4588e-06\n",
      "Epoch 51/100\n",
      "22493/22493 [==============================] - 3s 133us/step - loss: 3.8443e-06 - val_loss: 4.3964e-06\n",
      "Epoch 52/100\n",
      "22493/22493 [==============================] - 3s 134us/step - loss: 3.7711e-06 - val_loss: 4.3385e-06\n",
      "Epoch 53/100\n",
      "22493/22493 [==============================] - 3s 129us/step - loss: 3.6979e-06 - val_loss: 4.2790e-06\n",
      "Epoch 54/100\n",
      "22493/22493 [==============================] - 3s 127us/step - loss: 3.6248e-06 - val_loss: 4.2196e-06\n",
      "Epoch 55/100\n",
      "22493/22493 [==============================] - 3s 128us/step - loss: 3.5491e-06 - val_loss: 4.1590e-06\n",
      "Epoch 56/100\n",
      "22493/22493 [==============================] - 3s 129us/step - loss: 3.4737e-06 - val_loss: 4.0992e-06\n",
      "Epoch 57/100\n",
      "22493/22493 [==============================] - 3s 128us/step - loss: 3.3992e-06 - val_loss: 4.0361e-06\n",
      "Epoch 58/100\n",
      "22493/22493 [==============================] - 3s 129us/step - loss: 3.3236e-06 - val_loss: 3.9748e-06\n",
      "Epoch 59/100\n",
      "22493/22493 [==============================] - 3s 128us/step - loss: 3.2474e-06 - val_loss: 3.9145e-06\n",
      "Epoch 60/100\n",
      "22493/22493 [==============================] - 3s 130us/step - loss: 3.1714e-06 - val_loss: 3.8586e-06\n",
      "Epoch 61/100\n",
      "22493/22493 [==============================] - 3s 129us/step - loss: 3.0965e-06 - val_loss: 3.8025e-06\n",
      "Epoch 62/100\n",
      "22493/22493 [==============================] - 3s 129us/step - loss: 3.0204e-06 - val_loss: 3.7492e-06\n",
      "Epoch 63/100\n",
      "22493/22493 [==============================] - 3s 127us/step - loss: 2.9442e-06 - val_loss: 3.6832e-06\n",
      "Epoch 64/100\n",
      "22493/22493 [==============================] - 3s 129us/step - loss: 2.8696e-06 - val_loss: 3.6456e-06\n",
      "Epoch 65/100\n",
      "22493/22493 [==============================] - 3s 129us/step - loss: 2.7965e-06 - val_loss: 3.6346e-06\n",
      "Epoch 66/100\n",
      "22493/22493 [==============================] - 3s 129us/step - loss: 2.7255e-06 - val_loss: 3.6356e-06\n",
      "Epoch 67/100\n",
      "22493/22493 [==============================] - 3s 128us/step - loss: 2.6576e-06 - val_loss: 3.6758e-06\n",
      "Epoch 68/100\n",
      "22493/22493 [==============================] - 3s 129us/step - loss: 2.5946e-06 - val_loss: 3.7831e-06\n",
      "Epoch 69/100\n",
      "22493/22493 [==============================] - 3s 145us/step - loss: 2.5349e-06 - val_loss: 3.9469e-06\n"
     ]
    }
   ],
   "source": [
    "# tried with batch sizes 32, 64, 512, etc.; validation_split=0.2\n",
    "history = model.fit(X, y, epochs=100, batch_size=32,validation_split=0.25,\n",
    "                  verbose=1, shuffle=False,callbacks=[checkpoint,RL,EarlyStop])"
   ]
  },
  {
   "cell_type": "code",
   "execution_count": 140,
   "metadata": {},
   "outputs": [],
   "source": [
    "pp=model.predict(X) # now we get the prdictions (scaled velocities and forces)"
   ]
  },
  {
   "cell_type": "code",
   "execution_count": 141,
   "metadata": {},
   "outputs": [
    {
     "data": {
      "text/plain": [
       "4.0436592179579524e-06"
      ]
     },
     "execution_count": 141,
     "metadata": {},
     "output_type": "execute_result"
    }
   ],
   "source": [
    "mean_squared_error(pp,y)\n",
    "# the issue with MSE here is that we compare predicted forces that refer to predicted velocities\n",
    "#   to original forces that refer to original velocities. \n",
    "#   That is we compare y_Pred(x_Pred) to y_Real(x_Real)\n",
    "# Maybe one could interpolate predicted data and compare the y computed for the same x to get the MSE"
   ]
  },
  {
   "cell_type": "code",
   "execution_count": 142,
   "metadata": {},
   "outputs": [
    {
     "data": {
      "text/plain": [
       "0.002900308432318758"
      ]
     },
     "execution_count": 142,
     "metadata": {},
     "output_type": "execute_result"
    }
   ],
   "source": [
    "# scale back and compute mse between force and predicted force\n",
    "#pp.shape\n",
    "pp_back=enc1.inverse_transform(pp)\n",
    "#pp_back.shape\n",
    "mean_squared_error(pp_back[:,1],train[\"force\"][timestep:])"
   ]
  },
  {
   "cell_type": "code",
   "execution_count": 143,
   "metadata": {},
   "outputs": [
    {
     "data": {
      "text/plain": [
       "'Step 2 - Make a dataframe with one  file from  Z=1.5'"
      ]
     },
     "execution_count": 143,
     "metadata": {},
     "output_type": "execute_result"
    }
   ],
   "source": [
    "\"\"\"Step 2 - Make a dataframe with one  file from  Z=1.5\"\"\""
   ]
  },
  {
   "cell_type": "code",
   "execution_count": 144,
   "metadata": {},
   "outputs": [],
   "source": [
    "test = pd.read_csv(\"experimental_data.csv\", sep=\",\")\n",
    "# using this file to test the model"
   ]
  },
  {
   "cell_type": "code",
   "execution_count": 145,
   "metadata": {},
   "outputs": [
    {
     "data": {
      "text/html": [
       "<div>\n",
       "<style scoped>\n",
       "    .dataframe tbody tr th:only-of-type {\n",
       "        vertical-align: middle;\n",
       "    }\n",
       "\n",
       "    .dataframe tbody tr th {\n",
       "        vertical-align: top;\n",
       "    }\n",
       "\n",
       "    .dataframe thead th {\n",
       "        text-align: right;\n",
       "    }\n",
       "</style>\n",
       "<table border=\"1\" class=\"dataframe\">\n",
       "  <thead>\n",
       "    <tr style=\"text-align: right;\">\n",
       "      <th></th>\n",
       "      <th>time</th>\n",
       "      <th>velocity</th>\n",
       "      <th>force</th>\n",
       "    </tr>\n",
       "  </thead>\n",
       "  <tbody>\n",
       "    <tr>\n",
       "      <th>0</th>\n",
       "      <td>0.000</td>\n",
       "      <td>0.0</td>\n",
       "      <td>0.0</td>\n",
       "    </tr>\n",
       "    <tr>\n",
       "      <th>1</th>\n",
       "      <td>0.001</td>\n",
       "      <td>0.0</td>\n",
       "      <td>0.0</td>\n",
       "    </tr>\n",
       "    <tr>\n",
       "      <th>2</th>\n",
       "      <td>0.002</td>\n",
       "      <td>0.0</td>\n",
       "      <td>0.0</td>\n",
       "    </tr>\n",
       "    <tr>\n",
       "      <th>3</th>\n",
       "      <td>0.003</td>\n",
       "      <td>0.0</td>\n",
       "      <td>0.0</td>\n",
       "    </tr>\n",
       "    <tr>\n",
       "      <th>4</th>\n",
       "      <td>0.004</td>\n",
       "      <td>0.0</td>\n",
       "      <td>0.0</td>\n",
       "    </tr>\n",
       "  </tbody>\n",
       "</table>\n",
       "</div>"
      ],
      "text/plain": [
       "    time  velocity  force\n",
       "0  0.000       0.0    0.0\n",
       "1  0.001       0.0    0.0\n",
       "2  0.002       0.0    0.0\n",
       "3  0.003       0.0    0.0\n",
       "4  0.004       0.0    0.0"
      ]
     },
     "execution_count": 145,
     "metadata": {},
     "output_type": "execute_result"
    }
   ],
   "source": [
    "test.head()"
   ]
  },
  {
   "cell_type": "code",
   "execution_count": 146,
   "metadata": {},
   "outputs": [
    {
     "data": {
      "text/plain": [
       "time        float64\n",
       "velocity    float64\n",
       "force       float64\n",
       "dtype: object"
      ]
     },
     "execution_count": 146,
     "metadata": {},
     "output_type": "execute_result"
    }
   ],
   "source": [
    "test.dtypes"
   ]
  },
  {
   "cell_type": "code",
   "execution_count": 147,
   "metadata": {},
   "outputs": [
    {
     "name": "stdout",
     "output_type": "stream",
     "text": [
      "(29991, 2)\n"
     ]
    }
   ],
   "source": [
    "enc1, X, y = Reshape_input(test,transform_only=False)"
   ]
  },
  {
   "cell_type": "code",
   "execution_count": 148,
   "metadata": {},
   "outputs": [],
   "source": [
    "#X = X.reshape((X.shape[0], 1, X.shape[1]))"
   ]
  },
  {
   "cell_type": "code",
   "execution_count": 149,
   "metadata": {},
   "outputs": [],
   "source": [
    "model.load_weights('model_lstm_yusra_weights.hdfs')"
   ]
  },
  {
   "cell_type": "code",
   "execution_count": 150,
   "metadata": {},
   "outputs": [],
   "source": [
    "pred1=model.predict(X)\n",
    "    "
   ]
  },
  {
   "cell_type": "code",
   "execution_count": 151,
   "metadata": {},
   "outputs": [
    {
     "data": {
      "text/plain": [
       "1.0994163188398977e-05"
      ]
     },
     "execution_count": 151,
     "metadata": {},
     "output_type": "execute_result"
    }
   ],
   "source": [
    "mean_squared_error(pred1,y)\n",
    "# Same notes as above for MSE"
   ]
  },
  {
   "cell_type": "code",
   "execution_count": 152,
   "metadata": {},
   "outputs": [
    {
     "data": {
      "text/plain": [
       "0.008375849317327062"
      ]
     },
     "execution_count": 152,
     "metadata": {},
     "output_type": "execute_result"
    }
   ],
   "source": [
    "pred1_back=enc1.inverse_transform(pred1)\n",
    "#pp_back.shape\n",
    "mean_squared_error(pred1_back[:,1],test[\"force\"][timestep:])\n"
   ]
  },
  {
   "cell_type": "code",
   "execution_count": 153,
   "metadata": {},
   "outputs": [
    {
     "data": {
      "text/plain": [
       "0.0014757971832136236"
      ]
     },
     "execution_count": 153,
     "metadata": {},
     "output_type": "execute_result"
    }
   ],
   "source": [
    "# here I compute values for the original velocities, using interpolation, then compute MSE with original forces\n",
    "sorted_pred = pred1_back[pred1_back[:,0].argsort()]\n",
    "interp_pred=np.interp(test[\"velocity\"][timestep:],sorted_pred[:,0],sorted_pred[:,1])\n",
    "mean_squared_error(interp_pred[:],test[\"force\"][timestep:])\n",
    "#print(sorted_pred)"
   ]
  },
  {
   "cell_type": "code",
   "execution_count": 154,
   "metadata": {},
   "outputs": [
    {
     "data": {
      "image/png": "[encoded data removed]",
      "text/plain": [
       "<Figure size 432x288 with 1 Axes>"
      ]
     },
     "metadata": {
      "needs_background": "light"
     },
     "output_type": "display_data"
    }
   ],
   "source": [
    "from matplotlib  import pyplot  as plt\n",
    "fig, ax=plt.subplots()\n",
    "ax.plot(list(pred1[:,1]), label='prediction')\n",
    "ax.plot(list(y[:,1]), label='real')\n",
    "plt.legend()\n",
    "plt.show()"
   ]
  },
  {
   "cell_type": "code",
   "execution_count": 155,
   "metadata": {},
   "outputs": [
    {
     "data": {
      "image/png": "[encoded data removed]",
      "text/plain": [
       "<Figure size 432x288 with 1 Axes>"
      ]
     },
     "metadata": {
      "needs_background": "light"
     },
     "output_type": "display_data"
    }
   ],
   "source": [
    "fig, ax=plt.subplots()\n",
    "ax.scatter(y[:,1],pred1[:,1])\n",
    "ax.plot([y[:,1].min(), y[:,1].max()],[y[:,1].min(), y[:,1].max()],'k--', lw=4)\n",
    "ax.set_xlabel('Measured')\n",
    "ax.set_ylabel('Predicted')\n",
    "plt.show()"
   ]
  },
  {
   "cell_type": "code",
   "execution_count": 156,
   "metadata": {},
   "outputs": [
    {
     "data": {
      "image/png": "[encoded data removed]",
      "text/plain": [
       "<Figure size 432x288 with 1 Axes>"
      ]
     },
     "metadata": {
      "needs_background": "light"
     },
     "output_type": "display_data"
    }
   ],
   "source": [
    "# we compare some points, each with its velocity and force, from pred and real data\n",
    "fig, ax=plt.subplots()\n",
    "ax.scatter(pred1_back[:100,0],pred1_back[:100,1],label='prediction')\n",
    "ax.scatter(test[\"velocity\"][timestep:100+timestep],test[\"force\"][timestep:100+timestep],label='real')\n",
    "ax.scatter(test[\"velocity\"][timestep:100+timestep],interp_pred[:100],label='interpolated prediction')\n",
    "plt.legend()\n",
    "plt.show()"
   ]
  },
  {
   "cell_type": "code",
   "execution_count": 157,
   "metadata": {},
   "outputs": [
    {
     "data": {
      "image/png": "[encoded data removed]",
      "text/plain": [
       "<Figure size 432x288 with 1 Axes>"
      ]
     },
     "metadata": {
      "needs_background": "light"
     },
     "output_type": "display_data"
    }
   ],
   "source": [
    "fig, ax=plt.subplots()\n",
    "ax.scatter(pred1_back[900:1000,0],pred1_back[900:1000,1],label='prediction')\n",
    "ax.scatter(test[\"velocity\"][900+timestep:1000+timestep],test[\"force\"][900+timestep:1000+timestep],label='real')\n",
    "ax.scatter(test[\"velocity\"][900+timestep:1000+timestep],interp_pred[900:1000],label='interpolated prediction')\n",
    "plt.legend()\n",
    "plt.show()"
   ]
  },
  {
   "cell_type": "code",
   "execution_count": 159,
   "metadata": {},
   "outputs": [],
   "source": [
    "pd.DataFrame({'real':list(test[\"force\"][timestep:]),'pred':list(pred1_back[:,1]),'interp pred':list(interp_pred[:])} ) .to_csv('train_data_lstmyusra.csv',index=False)"
   ]
  },
  {
   "cell_type": "code",
   "execution_count": 61,
   "metadata": {},
   "outputs": [],
   "source": [
    "\n",
    "\n",
    "#model.save('train_data_lstm_yusra.h5')\n",
    "\n"
   ]
  },
  {
   "cell_type": "code",
   "execution_count": null,
   "metadata": {},
   "outputs": [],
   "source": []
  },
  {
   "cell_type": "code",
   "execution_count": null,
   "metadata": {},
   "outputs": [],
   "source": []
  }
 ],
 "metadata": {
  "kernelspec": {
   "display_name": "Python 3",
   "language": "python",
   "name": "python3"
  },
  "language_info": {
   "codemirror_mode": {
    "name": "ipython",
    "version": 3
   },
   "file_extension": ".py",
   "mimetype": "text/x-python",
   "name": "python",
   "nbconvert_exporter": "python",
   "pygments_lexer": "ipython3",
   "version": "3.6.7"
  }
 },
 "nbformat": 4,
 "nbformat_minor": 2
}
