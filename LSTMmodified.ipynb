{
 "cells": [
  {
   "cell_type": "code",
   "execution_count": 20,
   "metadata": {},
   "outputs": [],
   "source": [
    " # This Python 3 environment comes with many helpful analytics libraries installed\n",
    "# It is defined by the kaggle/python docker image: https://github.com/kaggle/docker-python\n",
    "# For example, here's several helpful packages to load in \n",
    "\n",
    "import numpy as np # linear algebra\n",
    "import pandas as pd # data processing, CSV file I/O (e.g. pd.read_csv)\n",
    "from  sklearn.metrics import mean_squared_error\n",
    "\n",
    "# I transformed the txt files into csv just because they are a bit simpler to manage\n",
    "# and started with numerical data only\n",
    "\n",
    "train = pd.read_csv(\"numerical_data.csv\", sep=\",\")"
   ]
  },
  {
   "cell_type": "code",
   "execution_count": 21,
   "metadata": {},
   "outputs": [
    {
     "data": {
      "text/plain": [
       "(30001, 3)"
      ]
     },
     "execution_count": 21,
     "metadata": {},
     "output_type": "execute_result"
    }
   ],
   "source": [
    " train.shape"
   ]
  },
  {
   "cell_type": "code",
   "execution_count": 22,
   "metadata": {},
   "outputs": [
    {
     "data": {
      "text/html": [
       "<div>\n",
       "<style scoped>\n",
       "    .dataframe tbody tr th:only-of-type {\n",
       "        vertical-align: middle;\n",
       "    }\n",
       "\n",
       "    .dataframe tbody tr th {\n",
       "        vertical-align: top;\n",
       "    }\n",
       "\n",
       "    .dataframe thead th {\n",
       "        text-align: right;\n",
       "    }\n",
       "</style>\n",
       "<table border=\"1\" class=\"dataframe\">\n",
       "  <thead>\n",
       "    <tr style=\"text-align: right;\">\n",
       "      <th></th>\n",
       "      <th>time</th>\n",
       "      <th>velocity</th>\n",
       "      <th>force</th>\n",
       "    </tr>\n",
       "  </thead>\n",
       "  <tbody>\n",
       "    <tr>\n",
       "      <th>0</th>\n",
       "      <td>0.000</td>\n",
       "      <td>0.000000e+00</td>\n",
       "      <td>-0.000017</td>\n",
       "    </tr>\n",
       "    <tr>\n",
       "      <th>1</th>\n",
       "      <td>0.001</td>\n",
       "      <td>-7.000000e-09</td>\n",
       "      <td>-0.000017</td>\n",
       "    </tr>\n",
       "    <tr>\n",
       "      <th>2</th>\n",
       "      <td>0.002</td>\n",
       "      <td>-7.650000e-05</td>\n",
       "      <td>0.006806</td>\n",
       "    </tr>\n",
       "    <tr>\n",
       "      <th>3</th>\n",
       "      <td>0.003</td>\n",
       "      <td>-2.157000e-04</td>\n",
       "      <td>0.019206</td>\n",
       "    </tr>\n",
       "    <tr>\n",
       "      <th>4</th>\n",
       "      <td>0.004</td>\n",
       "      <td>-4.113000e-04</td>\n",
       "      <td>0.036630</td>\n",
       "    </tr>\n",
       "  </tbody>\n",
       "</table>\n",
       "</div>"
      ],
      "text/plain": [
       "    time      velocity     force\n",
       "0  0.000  0.000000e+00 -0.000017\n",
       "1  0.001 -7.000000e-09 -0.000017\n",
       "2  0.002 -7.650000e-05  0.006806\n",
       "3  0.003 -2.157000e-04  0.019206\n",
       "4  0.004 -4.113000e-04  0.036630"
      ]
     },
     "execution_count": 22,
     "metadata": {},
     "output_type": "execute_result"
    }
   ],
   "source": [
    "train.head() "
   ]
  },
  {
   "cell_type": "code",
   "execution_count": 23,
   "metadata": {},
   "outputs": [
    {
     "data": {
      "text/plain": [
       "time        float64\n",
       "velocity    float64\n",
       "force       float64\n",
       "dtype: object"
      ]
     },
     "execution_count": 23,
     "metadata": {},
     "output_type": "execute_result"
    }
   ],
   "source": [
    " train.dtypes"
   ]
  },
  {
   "cell_type": "code",
   "execution_count": 24,
   "metadata": {},
   "outputs": [
    {
     "data": {
      "text/html": [
       "<div>\n",
       "<style scoped>\n",
       "    .dataframe tbody tr th:only-of-type {\n",
       "        vertical-align: middle;\n",
       "    }\n",
       "\n",
       "    .dataframe tbody tr th {\n",
       "        vertical-align: top;\n",
       "    }\n",
       "\n",
       "    .dataframe thead th {\n",
       "        text-align: right;\n",
       "    }\n",
       "</style>\n",
       "<table border=\"1\" class=\"dataframe\">\n",
       "  <thead>\n",
       "    <tr style=\"text-align: right;\">\n",
       "      <th></th>\n",
       "      <th>time</th>\n",
       "      <th>velocity</th>\n",
       "      <th>force</th>\n",
       "    </tr>\n",
       "  </thead>\n",
       "  <tbody>\n",
       "    <tr>\n",
       "      <th>time</th>\n",
       "      <td>1.00000</td>\n",
       "      <td>-0.014960</td>\n",
       "      <td>0.014950</td>\n",
       "    </tr>\n",
       "    <tr>\n",
       "      <th>velocity</th>\n",
       "      <td>-0.01496</td>\n",
       "      <td>1.000000</td>\n",
       "      <td>-0.999996</td>\n",
       "    </tr>\n",
       "    <tr>\n",
       "      <th>force</th>\n",
       "      <td>0.01495</td>\n",
       "      <td>-0.999996</td>\n",
       "      <td>1.000000</td>\n",
       "    </tr>\n",
       "  </tbody>\n",
       "</table>\n",
       "</div>"
      ],
      "text/plain": [
       "             time  velocity     force\n",
       "time      1.00000 -0.014960  0.014950\n",
       "velocity -0.01496  1.000000 -0.999996\n",
       "force     0.01495 -0.999996  1.000000"
      ]
     },
     "execution_count": 24,
     "metadata": {},
     "output_type": "execute_result"
    }
   ],
   "source": [
    "train.corr()\n"
   ]
  },
  {
   "cell_type": "code",
   "execution_count": 25,
   "metadata": {},
   "outputs": [],
   "source": [
    "#from sklearn.preprocessing import StandardScaler"
   ]
  },
  {
   "cell_type": "code",
   "execution_count": 26,
   "metadata": {},
   "outputs": [],
   "source": [
    "from sklearn.preprocessing import MinMaxScaler"
   ]
  },
  {
   "cell_type": "code",
   "execution_count": 27,
   "metadata": {},
   "outputs": [],
   "source": [
    "enc1=MinMaxScaler(feature_range=(0,1))\n",
    "\n"
   ]
  },
  {
   "cell_type": "code",
   "execution_count": 62,
   "metadata": {},
   "outputs": [],
   "source": [
    "def Reshape_input(train,transform_only):\n",
    "    timestep = 10\n",
    "    # added transform to y too\n",
    "    # tried with several timesteps (2, 10, 20, 100)\n",
    "    #X ,y = train.iloc[:,:1],train.iloc[timestep:,2]\n",
    "    X = train.iloc[:,1:]\n",
    "    if transform_only:\n",
    "        X= enc1.transform(X)\n",
    "    else:\n",
    "        X= enc1.fit_transform(X)\n",
    "    X_3d = np.zeros((X.shape[0]-timestep,timestep,X.shape[1]))\n",
    "    y = np.zeros((X.shape[0]-timestep,X.shape[1]))\n",
    "    print(y.shape)\n",
    "    \n",
    "    for i in range(X_3d.shape[0]):\n",
    "        X_3d[i,:,:] = X[i:i+timestep,:]\n",
    "        y[i,:] = X[i+timestep,:]\n",
    "    #y=enc1.fit_transform(np.array(train[\"force\"]).reshape(-1,1))\n",
    "    return enc1, X_3d, y\n"
   ]
  },
  {
   "cell_type": "code",
   "execution_count": 63,
   "metadata": {},
   "outputs": [
    {
     "name": "stdout",
     "output_type": "stream",
     "text": [
      "(29991, 2)\n"
     ]
    }
   ],
   "source": [
    "enc1, X, y = Reshape_input(train,transform_only=False)"
   ]
  },
  {
   "cell_type": "code",
   "execution_count": 64,
   "metadata": {},
   "outputs": [
    {
     "data": {
      "text/plain": [
       "(29991, 10, 2)"
      ]
     },
     "execution_count": 64,
     "metadata": {},
     "output_type": "execute_result"
    }
   ],
   "source": [
    "X.shape"
   ]
  },
  {
   "cell_type": "code",
   "execution_count": 65,
   "metadata": {},
   "outputs": [
    {
     "name": "stdout",
     "output_type": "stream",
     "text": [
      "[[[0.49957592 0.49934961]\n",
      "  [0.4995759  0.49934963]\n",
      "  [0.4993183  0.49960732]\n",
      "  [0.49884953 0.50007562]\n",
      "  [0.49819083 0.5007337 ]\n",
      "  [0.49734995 0.50157359]\n",
      "  [0.49632856 0.50259364]\n",
      "  [0.49512633 0.5037954 ]\n",
      "  [0.49374158 0.50518214]\n",
      "  [0.49217229 0.50675791]]\n",
      "\n",
      " [[0.4995759  0.49934963]\n",
      "  [0.4993183  0.49960732]\n",
      "  [0.49884953 0.50007562]\n",
      "  [0.49819083 0.5007337 ]\n",
      "  [0.49734995 0.50157359]\n",
      "  [0.49632856 0.50259364]\n",
      "  [0.49512633 0.5037954 ]\n",
      "  [0.49374158 0.50518214]\n",
      "  [0.49217229 0.50675791]\n",
      "  [0.49041744 0.50852651]]]\n"
     ]
    }
   ],
   "source": [
    "print(X[0:2])"
   ]
  },
  {
   "cell_type": "code",
   "execution_count": 66,
   "metadata": {},
   "outputs": [
    {
     "data": {
      "text/plain": [
       "(29991, 2)"
      ]
     },
     "execution_count": 66,
     "metadata": {},
     "output_type": "execute_result"
    }
   ],
   "source": [
    "y.shape"
   ]
  },
  {
   "cell_type": "code",
   "execution_count": 67,
   "metadata": {},
   "outputs": [
    {
     "name": "stdout",
     "output_type": "stream",
     "text": [
      "[[0.49041744 0.50852651]\n",
      " [0.48847637 0.51048979]]\n"
     ]
    }
   ],
   "source": [
    "print(y[0:2])"
   ]
  },
  {
   "cell_type": "code",
   "execution_count": 91,
   "metadata": {},
   "outputs": [],
   "source": [
    "from keras.models import Sequential\n",
    "from keras.layers import *\n",
    "from keras.layers import LSTM\n",
    "from keras.layers import Activation\n",
    "from keras.optimizers import Adam, SGD\n",
    "from keras.callbacks import *\n",
    "model = Sequential()\n",
    "# tried also with recurrent_dropout = 0.1 and activation='linear'\n",
    "model.add(LSTM(18, input_shape=(X.shape[1], X.shape[2]), recurrent_dropout= 0))\n",
    "# tried also commenting the following layer\n",
    "model.add(Dense(18,kernel_initializer='normal',activation='relu'))\n",
    "# tried also commenting dropout\n",
    "model.add(Dropout(0))\n",
    "# tried also commenting the following layer\n",
    "model.add(Dense(2))\n",
    "# tried also commenting the following layer instead\n",
    "model.add(Dense(2,activation='linear'))\n",
    "# added explicit lr to Adam optimizer, tried several values; \n",
    "# tried also with SGD with and without clipnorm (worse results than Adam)\n",
    "model.compile(Adam(lr=0.01), loss='mean_squared_error')\n",
    "\n",
    "checkpoint = ModelCheckpoint(filepath='model_lstm_yusra_weights.hdfs', save_weights_only=True,\n",
    "                             monitor='val_loss',save_best_only=True)\n",
    "EarlyStop = EarlyStopping(monitor='val_loss', min_delta=0, patience=4,\n",
    "                          verbose=0, mode='auto')\n",
    "# tried also with smaller min_lr\n",
    "RL = ReduceLROnPlateau(min_lr=0.0001,factor=0.3,patience=3)"
   ]
  },
  {
   "cell_type": "code",
   "execution_count": 96,
   "metadata": {},
   "outputs": [
    {
     "name": "stdout",
     "output_type": "stream",
     "text": [
      "Train on 23992 samples, validate on 5999 samples\n",
      "Epoch 1/100\n",
      "23992/23992 [==============================] - 1s 22us/step - loss: 1.0236e-05 - val_loss: 9.6261e-06\n",
      "Epoch 2/100\n",
      "23992/23992 [==============================] - 0s 17us/step - loss: 9.8660e-06 - val_loss: 9.5602e-06\n",
      "Epoch 3/100\n",
      "23992/23992 [==============================] - 0s 17us/step - loss: 9.8246e-06 - val_loss: 9.5200e-06\n",
      "Epoch 4/100\n",
      "23992/23992 [==============================] - 0s 17us/step - loss: 9.7859e-06 - val_loss: 9.4795e-06\n",
      "Epoch 5/100\n",
      "23992/23992 [==============================] - 0s 17us/step - loss: 9.7465e-06 - val_loss: 9.4384e-06\n",
      "Epoch 6/100\n",
      "23992/23992 [==============================] - 0s 18us/step - loss: 9.7063e-06 - val_loss: 9.3966e-06\n",
      "Epoch 7/100\n",
      "23992/23992 [==============================] - 0s 19us/step - loss: 9.6653e-06 - val_loss: 9.3541e-06\n",
      "Epoch 8/100\n",
      "23992/23992 [==============================] - 0s 18us/step - loss: 9.6235e-06 - val_loss: 9.3109e-06\n",
      "Epoch 9/100\n",
      "23992/23992 [==============================] - 0s 21us/step - loss: 9.5809e-06 - val_loss: 9.2667e-06\n",
      "Epoch 10/100\n",
      "23992/23992 [==============================] - 1s 21us/step - loss: 9.5374e-06 - val_loss: 9.2217e-06\n",
      "Epoch 11/100\n",
      "23992/23992 [==============================] - 0s 18us/step - loss: 9.4929e-06 - val_loss: 9.1752e-06\n",
      "Epoch 12/100\n",
      "23992/23992 [==============================] - 0s 19us/step - loss: 9.4474e-06 - val_loss: 9.1276e-06\n",
      "Epoch 13/100\n",
      "23992/23992 [==============================] - 0s 18us/step - loss: 9.4008e-06 - val_loss: 9.0792e-06\n",
      "Epoch 14/100\n",
      "23992/23992 [==============================] - 0s 17us/step - loss: 9.3534e-06 - val_loss: 9.0300e-06\n",
      "Epoch 15/100\n",
      "23992/23992 [==============================] - 0s 18us/step - loss: 9.3051e-06 - val_loss: 8.9799e-06\n",
      "Epoch 16/100\n",
      "23992/23992 [==============================] - 0s 18us/step - loss: 9.2558e-06 - val_loss: 8.9291e-06\n",
      "Epoch 17/100\n",
      "23992/23992 [==============================] - 0s 18us/step - loss: 9.2056e-06 - val_loss: 8.8774e-06\n",
      "Epoch 18/100\n",
      "23992/23992 [==============================] - 0s 18us/step - loss: 9.1545e-06 - val_loss: 8.8249e-06\n",
      "Epoch 19/100\n",
      "23992/23992 [==============================] - 1s 21us/step - loss: 9.1024e-06 - val_loss: 8.7713e-06\n",
      "Epoch 20/100\n",
      "23992/23992 [==============================] - 0s 19us/step - loss: 9.0494e-06 - val_loss: 8.7170e-06\n",
      "Epoch 21/100\n",
      "23992/23992 [==============================] - 0s 19us/step - loss: 8.9953e-06 - val_loss: 8.6618e-06\n",
      "Epoch 22/100\n",
      "23992/23992 [==============================] - 0s 19us/step - loss: 8.9403e-06 - val_loss: 8.6056e-06\n",
      "Epoch 23/100\n",
      "23992/23992 [==============================] - 0s 19us/step - loss: 8.8843e-06 - val_loss: 8.5486e-06\n",
      "Epoch 24/100\n",
      "23992/23992 [==============================] - 0s 18us/step - loss: 8.8273e-06 - val_loss: 8.4907e-06\n",
      "Epoch 25/100\n",
      "23992/23992 [==============================] - 0s 18us/step - loss: 8.7693e-06 - val_loss: 8.4319e-06\n",
      "Epoch 26/100\n",
      "23992/23992 [==============================] - 0s 18us/step - loss: 8.7103e-06 - val_loss: 8.3721e-06\n",
      "Epoch 27/100\n",
      "23992/23992 [==============================] - 0s 19us/step - loss: 8.6503e-06 - val_loss: 8.3115e-06\n",
      "Epoch 28/100\n",
      "23992/23992 [==============================] - 0s 20us/step - loss: 8.5892e-06 - val_loss: 8.2499e-06\n",
      "Epoch 29/100\n",
      "23992/23992 [==============================] - 1s 22us/step - loss: 8.5271e-06 - val_loss: 8.1875e-06\n",
      "Epoch 30/100\n",
      "23992/23992 [==============================] - 0s 19us/step - loss: 8.4640e-06 - val_loss: 8.1242e-06\n",
      "Epoch 31/100\n",
      "23992/23992 [==============================] - 0s 19us/step - loss: 8.3999e-06 - val_loss: 8.0598e-06\n",
      "Epoch 32/100\n",
      "23992/23992 [==============================] - 0s 18us/step - loss: 8.3348e-06 - val_loss: 7.9947e-06\n",
      "Epoch 33/100\n",
      "23992/23992 [==============================] - 0s 18us/step - loss: 8.2686e-06 - val_loss: 7.9286e-06\n",
      "Epoch 34/100\n",
      "23992/23992 [==============================] - 0s 19us/step - loss: 8.2015e-06 - val_loss: 7.8616e-06\n",
      "Epoch 35/100\n",
      "23992/23992 [==============================] - 0s 18us/step - loss: 8.1333e-06 - val_loss: 7.7935e-06\n",
      "Epoch 36/100\n",
      "23992/23992 [==============================] - 0s 18us/step - loss: 8.0641e-06 - val_loss: 7.7239e-06\n",
      "Epoch 37/100\n",
      "23992/23992 [==============================] - 0s 19us/step - loss: 7.9937e-06 - val_loss: 7.6531e-06\n",
      "Epoch 38/100\n",
      "23992/23992 [==============================] - 0s 18us/step - loss: 7.9222e-06 - val_loss: 7.5811e-06\n",
      "Epoch 39/100\n",
      "23992/23992 [==============================] - 0s 18us/step - loss: 7.8497e-06 - val_loss: 7.5088e-06\n",
      "Epoch 40/100\n",
      "23992/23992 [==============================] - 0s 18us/step - loss: 7.7763e-06 - val_loss: 7.4355e-06\n",
      "Epoch 41/100\n",
      "23992/23992 [==============================] - 0s 18us/step - loss: 7.7020e-06 - val_loss: 7.3612e-06\n",
      "Epoch 42/100\n",
      "23992/23992 [==============================] - 0s 18us/step - loss: 7.6267e-06 - val_loss: 7.2866e-06\n",
      "Epoch 43/100\n",
      "23992/23992 [==============================] - 0s 19us/step - loss: 7.5505e-06 - val_loss: 7.2110e-06\n",
      "Epoch 44/100\n",
      "23992/23992 [==============================] - 0s 19us/step - loss: 7.4734e-06 - val_loss: 7.1347e-06\n",
      "Epoch 45/100\n",
      "23992/23992 [==============================] - 0s 19us/step - loss: 7.3955e-06 - val_loss: 7.0577e-06\n",
      "Epoch 46/100\n",
      "23992/23992 [==============================] - 0s 19us/step - loss: 7.3167e-06 - val_loss: 6.9800e-06\n",
      "Epoch 47/100\n",
      "23992/23992 [==============================] - 0s 19us/step - loss: 7.2371e-06 - val_loss: 6.9016e-06\n",
      "Epoch 48/100\n",
      "23992/23992 [==============================] - 0s 19us/step - loss: 7.1567e-06 - val_loss: 6.8226e-06\n",
      "Epoch 49/100\n",
      "23992/23992 [==============================] - 0s 19us/step - loss: 7.0755e-06 - val_loss: 6.7429e-06\n",
      "Epoch 50/100\n",
      "23992/23992 [==============================] - 0s 18us/step - loss: 6.9937e-06 - val_loss: 6.6627e-06\n",
      "Epoch 51/100\n",
      "23992/23992 [==============================] - 0s 19us/step - loss: 6.9110e-06 - val_loss: 6.5819e-06\n",
      "Epoch 52/100\n",
      "23992/23992 [==============================] - 0s 19us/step - loss: 6.8277e-06 - val_loss: 6.5006e-06\n",
      "Epoch 53/100\n",
      "23992/23992 [==============================] - 0s 21us/step - loss: 6.7437e-06 - val_loss: 6.4188e-06\n",
      "Epoch 54/100\n",
      "23992/23992 [==============================] - 0s 19us/step - loss: 6.6591e-06 - val_loss: 6.3365e-06\n",
      "Epoch 55/100\n",
      "23992/23992 [==============================] - 1s 23us/step - loss: 6.5740e-06 - val_loss: 6.2537e-06\n",
      "Epoch 56/100\n",
      "23992/23992 [==============================] - 0s 18us/step - loss: 6.4883e-06 - val_loss: 6.1706e-06\n",
      "Epoch 57/100\n",
      "23992/23992 [==============================] - 0s 21us/step - loss: 6.4022e-06 - val_loss: 6.0870e-06\n",
      "Epoch 58/100\n",
      "23992/23992 [==============================] - 0s 19us/step - loss: 6.3155e-06 - val_loss: 6.0029e-06\n",
      "Epoch 59/100\n",
      "23992/23992 [==============================] - 1s 22us/step - loss: 6.2285e-06 - val_loss: 5.9180e-06\n",
      "Epoch 60/100\n",
      "23992/23992 [==============================] - 0s 20us/step - loss: 6.1408e-06 - val_loss: 5.8321e-06\n",
      "Epoch 61/100\n",
      "23992/23992 [==============================] - 0s 18us/step - loss: 6.0527e-06 - val_loss: 5.7462e-06\n",
      "Epoch 62/100\n",
      "23992/23992 [==============================] - 0s 19us/step - loss: 5.9643e-06 - val_loss: 5.6602e-06\n",
      "Epoch 63/100\n",
      "23992/23992 [==============================] - 0s 19us/step - loss: 5.8758e-06 - val_loss: 5.5741e-06\n",
      "Epoch 64/100\n",
      "23992/23992 [==============================] - 0s 19us/step - loss: 5.7871e-06 - val_loss: 5.4881e-06\n",
      "Epoch 65/100\n",
      "23992/23992 [==============================] - 0s 18us/step - loss: 5.6983e-06 - val_loss: 5.4022e-06\n",
      "Epoch 66/100\n",
      "23992/23992 [==============================] - 0s 18us/step - loss: 5.6095e-06 - val_loss: 5.3164e-06\n",
      "Epoch 67/100\n",
      "23992/23992 [==============================] - 0s 18us/step - loss: 5.5207e-06 - val_loss: 5.2306e-06\n",
      "Epoch 68/100\n",
      "23992/23992 [==============================] - 0s 18us/step - loss: 5.4320e-06 - val_loss: 5.1451e-06\n",
      "Epoch 69/100\n",
      "23992/23992 [==============================] - 0s 18us/step - loss: 5.3434e-06 - val_loss: 5.0599e-06\n",
      "Epoch 70/100\n",
      "23992/23992 [==============================] - 0s 19us/step - loss: 5.2550e-06 - val_loss: 4.9749e-06\n",
      "Epoch 71/100\n",
      "23992/23992 [==============================] - 0s 18us/step - loss: 5.1668e-06 - val_loss: 4.8903e-06\n"
     ]
    },
    {
     "name": "stdout",
     "output_type": "stream",
     "text": [
      "Epoch 72/100\n",
      "23992/23992 [==============================] - 0s 17us/step - loss: 5.0789e-06 - val_loss: 4.8060e-06\n",
      "Epoch 73/100\n",
      "23992/23992 [==============================] - 0s 17us/step - loss: 4.9914e-06 - val_loss: 4.7222e-06\n",
      "Epoch 74/100\n",
      "23992/23992 [==============================] - 0s 17us/step - loss: 4.9043e-06 - val_loss: 4.6386e-06\n",
      "Epoch 75/100\n",
      "23992/23992 [==============================] - 0s 17us/step - loss: 4.8177e-06 - val_loss: 4.5551e-06\n",
      "Epoch 76/100\n",
      "23992/23992 [==============================] - 0s 17us/step - loss: 4.7312e-06 - val_loss: 4.4710e-06\n",
      "Epoch 77/100\n",
      "23992/23992 [==============================] - 0s 17us/step - loss: 4.6448e-06 - val_loss: 4.3863e-06\n",
      "Epoch 78/100\n",
      "23992/23992 [==============================] - 0s 17us/step - loss: 4.5587e-06 - val_loss: 4.3022e-06\n",
      "Epoch 79/100\n",
      "23992/23992 [==============================] - 0s 17us/step - loss: 4.4733e-06 - val_loss: 4.2193e-06\n",
      "Epoch 80/100\n",
      "23992/23992 [==============================] - 0s 17us/step - loss: 4.3889e-06 - val_loss: 4.1376e-06\n",
      "Epoch 81/100\n",
      "23992/23992 [==============================] - 0s 17us/step - loss: 4.3055e-06 - val_loss: 4.0571e-06\n",
      "Epoch 82/100\n",
      "23992/23992 [==============================] - 0s 17us/step - loss: 4.2230e-06 - val_loss: 3.9779e-06\n",
      "Epoch 83/100\n",
      "23992/23992 [==============================] - 0s 17us/step - loss: 4.1414e-06 - val_loss: 3.8989e-06\n",
      "Epoch 84/100\n",
      "23992/23992 [==============================] - 0s 18us/step - loss: 4.0603e-06 - val_loss: 3.8204e-06\n",
      "Epoch 85/100\n",
      "23992/23992 [==============================] - 0s 17us/step - loss: 3.9801e-06 - val_loss: 3.7433e-06\n",
      "Epoch 86/100\n",
      "23992/23992 [==============================] - 0s 18us/step - loss: 3.9012e-06 - val_loss: 3.6677e-06\n",
      "Epoch 87/100\n",
      "23992/23992 [==============================] - 0s 18us/step - loss: 3.8234e-06 - val_loss: 3.5935e-06\n",
      "Epoch 88/100\n",
      "23992/23992 [==============================] - 0s 17us/step - loss: 3.7469e-06 - val_loss: 3.5207e-06\n",
      "Epoch 89/100\n",
      "23992/23992 [==============================] - 0s 17us/step - loss: 3.6717e-06 - val_loss: 3.4494e-06\n",
      "Epoch 90/100\n",
      "23992/23992 [==============================] - 0s 17us/step - loss: 3.5978e-06 - val_loss: 3.3796e-06\n",
      "Epoch 91/100\n",
      "23992/23992 [==============================] - 0s 18us/step - loss: 3.5251e-06 - val_loss: 3.3103e-06\n",
      "Epoch 92/100\n",
      "23992/23992 [==============================] - 0s 17us/step - loss: 3.4533e-06 - val_loss: 3.2418e-06\n",
      "Epoch 93/100\n",
      "23992/23992 [==============================] - 0s 17us/step - loss: 3.3828e-06 - val_loss: 3.1750e-06\n",
      "Epoch 94/100\n",
      "23992/23992 [==============================] - 0s 17us/step - loss: 3.3137e-06 - val_loss: 3.1098e-06\n",
      "Epoch 95/100\n",
      "23992/23992 [==============================] - 0s 17us/step - loss: 3.2461e-06 - val_loss: 3.0463e-06\n",
      "Epoch 96/100\n",
      "23992/23992 [==============================] - 0s 17us/step - loss: 3.1800e-06 - val_loss: 2.9843e-06\n",
      "Epoch 97/100\n",
      "23992/23992 [==============================] - 0s 17us/step - loss: 3.1155e-06 - val_loss: 2.9240e-06\n",
      "Epoch 98/100\n",
      "23992/23992 [==============================] - 0s 17us/step - loss: 3.0524e-06 - val_loss: 2.8652e-06\n",
      "Epoch 99/100\n",
      "23992/23992 [==============================] - 0s 17us/step - loss: 2.9907e-06 - val_loss: 2.8071e-06\n",
      "Epoch 100/100\n",
      "23992/23992 [==============================] - 0s 18us/step - loss: 2.9301e-06 - val_loss: 2.7499e-06\n"
     ]
    }
   ],
   "source": [
    "# tried with batch sizes 32, 64, 128, 256\n",
    "history = model.fit(X, y, epochs=100, batch_size=512,validation_split=0.2,\n",
    "                  verbose=1, shuffle=False,callbacks=[checkpoint,RL,EarlyStop])"
   ]
  },
  {
   "cell_type": "code",
   "execution_count": 97,
   "metadata": {},
   "outputs": [],
   "source": [
    "pp=model.predict(X)"
   ]
  },
  {
   "cell_type": "code",
   "execution_count": 98,
   "metadata": {},
   "outputs": [
    {
     "data": {
      "text/plain": [
       "2.837858616296029e-06"
      ]
     },
     "execution_count": 98,
     "metadata": {},
     "output_type": "execute_result"
    }
   ],
   "source": [
    "mean_squared_error(pp,y)"
   ]
  },
  {
   "cell_type": "code",
   "execution_count": 99,
   "metadata": {},
   "outputs": [
    {
     "data": {
      "text/plain": [
       "0.0025088271047674867"
      ]
     },
     "execution_count": 99,
     "metadata": {},
     "output_type": "execute_result"
    }
   ],
   "source": [
    "# scale back and compute mse between force and predicted force\n",
    "#pp.shape\n",
    "pp_back=enc1.inverse_transform(pp)\n",
    "#pp_back.shape\n",
    "mean_squared_error(pp_back[:,1],train[\"force\"][10:])"
   ]
  },
  {
   "cell_type": "code",
   "execution_count": 116,
   "metadata": {},
   "outputs": [
    {
     "data": {
      "text/plain": [
       "'Step 2 - Make a dataframe with one  file from  Z=1.5'"
      ]
     },
     "execution_count": 116,
     "metadata": {},
     "output_type": "execute_result"
    }
   ],
   "source": [
    "\"\"\"Step 2 - Make a dataframe with one  file from  Z=1.5\"\"\""
   ]
  },
  {
   "cell_type": "code",
   "execution_count": 100,
   "metadata": {},
   "outputs": [],
   "source": [
    "test = pd.read_csv(\"experimental_data.csv\", sep=\",\")\n"
   ]
  },
  {
   "cell_type": "code",
   "execution_count": 101,
   "metadata": {},
   "outputs": [
    {
     "data": {
      "text/html": [
       "<div>\n",
       "<style scoped>\n",
       "    .dataframe tbody tr th:only-of-type {\n",
       "        vertical-align: middle;\n",
       "    }\n",
       "\n",
       "    .dataframe tbody tr th {\n",
       "        vertical-align: top;\n",
       "    }\n",
       "\n",
       "    .dataframe thead th {\n",
       "        text-align: right;\n",
       "    }\n",
       "</style>\n",
       "<table border=\"1\" class=\"dataframe\">\n",
       "  <thead>\n",
       "    <tr style=\"text-align: right;\">\n",
       "      <th></th>\n",
       "      <th>time</th>\n",
       "      <th>velocity</th>\n",
       "      <th>force</th>\n",
       "    </tr>\n",
       "  </thead>\n",
       "  <tbody>\n",
       "    <tr>\n",
       "      <th>0</th>\n",
       "      <td>0.000</td>\n",
       "      <td>0.0</td>\n",
       "      <td>0.0</td>\n",
       "    </tr>\n",
       "    <tr>\n",
       "      <th>1</th>\n",
       "      <td>0.001</td>\n",
       "      <td>0.0</td>\n",
       "      <td>0.0</td>\n",
       "    </tr>\n",
       "    <tr>\n",
       "      <th>2</th>\n",
       "      <td>0.002</td>\n",
       "      <td>0.0</td>\n",
       "      <td>0.0</td>\n",
       "    </tr>\n",
       "    <tr>\n",
       "      <th>3</th>\n",
       "      <td>0.003</td>\n",
       "      <td>0.0</td>\n",
       "      <td>0.0</td>\n",
       "    </tr>\n",
       "    <tr>\n",
       "      <th>4</th>\n",
       "      <td>0.004</td>\n",
       "      <td>0.0</td>\n",
       "      <td>0.0</td>\n",
       "    </tr>\n",
       "  </tbody>\n",
       "</table>\n",
       "</div>"
      ],
      "text/plain": [
       "    time  velocity  force\n",
       "0  0.000       0.0    0.0\n",
       "1  0.001       0.0    0.0\n",
       "2  0.002       0.0    0.0\n",
       "3  0.003       0.0    0.0\n",
       "4  0.004       0.0    0.0"
      ]
     },
     "execution_count": 101,
     "metadata": {},
     "output_type": "execute_result"
    }
   ],
   "source": [
    "test.head()"
   ]
  },
  {
   "cell_type": "code",
   "execution_count": 103,
   "metadata": {},
   "outputs": [
    {
     "data": {
      "text/plain": [
       "time        float64\n",
       "velocity    float64\n",
       "force       float64\n",
       "dtype: object"
      ]
     },
     "execution_count": 103,
     "metadata": {},
     "output_type": "execute_result"
    }
   ],
   "source": [
    "test.dtypes"
   ]
  },
  {
   "cell_type": "code",
   "execution_count": 104,
   "metadata": {},
   "outputs": [
    {
     "name": "stdout",
     "output_type": "stream",
     "text": [
      "(29991, 2)\n"
     ]
    }
   ],
   "source": [
    "enc1, X, y = Reshape_input(test,transform_only=False)"
   ]
  },
  {
   "cell_type": "code",
   "execution_count": 52,
   "metadata": {},
   "outputs": [],
   "source": [
    "#X = X.reshape((X.shape[0], 1, X.shape[1]))"
   ]
  },
  {
   "cell_type": "code",
   "execution_count": 105,
   "metadata": {},
   "outputs": [],
   "source": [
    "model.load_weights('model_lstm_yusra_weights.hdfs')"
   ]
  },
  {
   "cell_type": "code",
   "execution_count": 106,
   "metadata": {},
   "outputs": [],
   "source": [
    "pred1=model.predict(X)\n",
    "    "
   ]
  },
  {
   "cell_type": "code",
   "execution_count": 107,
   "metadata": {},
   "outputs": [
    {
     "data": {
      "text/plain": [
       "1.7201114344242598e-05"
      ]
     },
     "execution_count": 107,
     "metadata": {},
     "output_type": "execute_result"
    }
   ],
   "source": [
    "mean_squared_error(pred1,y)"
   ]
  },
  {
   "cell_type": "code",
   "execution_count": 112,
   "metadata": {},
   "outputs": [
    {
     "data": {
      "text/plain": [
       "0.016548071169969196"
      ]
     },
     "execution_count": 112,
     "metadata": {},
     "output_type": "execute_result"
    }
   ],
   "source": [
    "pred1_back=enc1.inverse_transform(pred1)\n",
    "#pp_back.shape\n",
    "mean_squared_error(pred1_back[:,1],test[\"force\"][10:])"
   ]
  },
  {
   "cell_type": "code",
   "execution_count": 114,
   "metadata": {},
   "outputs": [
    {
     "data": {
      "image/png": "[encoded data removed]",
      "text/plain": [
       "<Figure size 432x288 with 1 Axes>"
      ]
     },
     "metadata": {
      "needs_background": "light"
     },
     "output_type": "display_data"
    }
   ],
   "source": [
    "from matplotlib  import pyplot  as plt\n",
    "plt.plot(list(pred1[:,1]), label='prediction')\n",
    "plt.plot(list(y[:,1]), label='real')\n",
    "plt.legend()\n",
    "plt.show()"
   ]
  },
  {
   "cell_type": "code",
   "execution_count": 115,
   "metadata": {},
   "outputs": [
    {
     "data": {
      "image/png": "[encoded data removed]",
      "text/plain": [
       "<Figure size 432x288 with 1 Axes>"
      ]
     },
     "metadata": {
      "needs_background": "light"
     },
     "output_type": "display_data"
    }
   ],
   "source": [
    "fig, ax=plt.subplots()\n",
    "ax.scatter(y[:,1],pred1[:,1])\n",
    "ax.plot([y[:,1].min(), y[:,1].max()],[y[:,1].min(), y[:,1].max()],'k--', lw=4)\n",
    "ax.set_xlabel('Measured')\n",
    "ax.set_ylabel('Predicted')\n",
    "plt.show()"
   ]
  },
  {
   "cell_type": "code",
   "execution_count": 116,
   "metadata": {},
   "outputs": [],
   "source": [
    "pd.DataFrame({'real':list(test[\"force\"][10:]),'pred':list(pred1_back[:,1])} ) .to_csv('train_data_lstmyusra.csv',index=False)"
   ]
  },
  {
   "cell_type": "code",
   "execution_count": 61,
   "metadata": {},
   "outputs": [],
   "source": [
    "\n",
    "\n",
    "#model.save('train_data_lstm_yusra.h5')\n",
    "\n"
   ]
  },
  {
   "cell_type": "code",
   "execution_count": null,
   "metadata": {},
   "outputs": [],
   "source": []
  },
  {
   "cell_type": "code",
   "execution_count": null,
   "metadata": {},
   "outputs": [],
   "source": []
  }
 ],
 "metadata": {
  "kernelspec": {
   "display_name": "Python 3",
   "language": "python",
   "name": "python3"
  },
  "language_info": {
   "codemirror_mode": {
    "name": "ipython",
    "version": 3
   },
   "file_extension": ".py",
   "mimetype": "text/x-python",
   "name": "python",
   "nbconvert_exporter": "python",
   "pygments_lexer": "ipython3",
   "version": "3.5.2"
  }
 },
 "nbformat": 4,
 "nbformat_minor": 2
}
