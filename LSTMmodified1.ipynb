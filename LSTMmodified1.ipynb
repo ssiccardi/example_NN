{
 "cells": [
  {
   "cell_type": "code",
   "execution_count": 84,
   "metadata": {},
   "outputs": [],
   "source": [
    " # This Python 3 environment comes with many helpful analytics libraries installed\n",
    "# It is defined by the kaggle/python docker image: https://github.com/kaggle/docker-python\n",
    "# For example, here's several helpful packages to load in \n",
    "\n",
    "import numpy as np # linear algebra\n",
    "import pandas as pd # data processing, CSV file I/O (e.g. pd.read_csv)\n",
    "from  sklearn.metrics import mean_squared_error\n",
    "\n",
    "# I transformed the txt files into csv just because they are a bit simpler to manage\n",
    "# added the title row at the beginning: \"time\" \"velocity\" \"force\"\n",
    "# I use only numerical_data.csv to train, and experimental_data.csv to test the model,\n",
    "# If you think that it is better you can merge the files (but then you will have to find other data\n",
    "# to test th model), or swap them (train with experimental and test with numerical data)\n",
    "\n",
    "train = pd.read_csv(\"numerical_data.csv\", sep=\",\")\n",
    "\n",
    "# INPUT:  ONLY VELOCITY\n",
    "# OUTPUT: ONLY FORCE\n",
    "# change this value to N if you want to use N previous values\n",
    "timestep = 1  # for Reshape_input etc.\n",
    "\n",
    "# with timestep = 10 I found:\n",
    "# MSE 2.7140929919153043e-06 for train scaled values\n",
    "# MSE 0.0016335511228334893 for train scaled back values\n",
    "# MSE 1.2209993163934232e-05 for test scaled values\n",
    "# MSE 0.010834463731322736 for test scaled back values"
   ]
  },
  {
   "cell_type": "code",
   "execution_count": 85,
   "metadata": {},
   "outputs": [
    {
     "data": {
      "text/plain": [
       "(30001, 3)"
      ]
     },
     "execution_count": 85,
     "metadata": {},
     "output_type": "execute_result"
    }
   ],
   "source": [
    " train.shape"
   ]
  },
  {
   "cell_type": "code",
   "execution_count": 86,
   "metadata": {},
   "outputs": [
    {
     "data": {
      "text/html": [
       "<div>\n",
       "<style scoped>\n",
       "    .dataframe tbody tr th:only-of-type {\n",
       "        vertical-align: middle;\n",
       "    }\n",
       "\n",
       "    .dataframe tbody tr th {\n",
       "        vertical-align: top;\n",
       "    }\n",
       "\n",
       "    .dataframe thead th {\n",
       "        text-align: right;\n",
       "    }\n",
       "</style>\n",
       "<table border=\"1\" class=\"dataframe\">\n",
       "  <thead>\n",
       "    <tr style=\"text-align: right;\">\n",
       "      <th></th>\n",
       "      <th>time</th>\n",
       "      <th>velocity</th>\n",
       "      <th>force</th>\n",
       "    </tr>\n",
       "  </thead>\n",
       "  <tbody>\n",
       "    <tr>\n",
       "      <th>0</th>\n",
       "      <td>0.000</td>\n",
       "      <td>0.000000e+00</td>\n",
       "      <td>-0.000017</td>\n",
       "    </tr>\n",
       "    <tr>\n",
       "      <th>1</th>\n",
       "      <td>0.001</td>\n",
       "      <td>-7.040000e-09</td>\n",
       "      <td>-0.000017</td>\n",
       "    </tr>\n",
       "    <tr>\n",
       "      <th>2</th>\n",
       "      <td>0.002</td>\n",
       "      <td>-7.650000e-05</td>\n",
       "      <td>0.006806</td>\n",
       "    </tr>\n",
       "    <tr>\n",
       "      <th>3</th>\n",
       "      <td>0.003</td>\n",
       "      <td>-2.157000e-04</td>\n",
       "      <td>0.019206</td>\n",
       "    </tr>\n",
       "    <tr>\n",
       "      <th>4</th>\n",
       "      <td>0.004</td>\n",
       "      <td>-4.113000e-04</td>\n",
       "      <td>0.036630</td>\n",
       "    </tr>\n",
       "  </tbody>\n",
       "</table>\n",
       "</div>"
      ],
      "text/plain": [
       "    time      velocity     force\n",
       "0  0.000  0.000000e+00 -0.000017\n",
       "1  0.001 -7.040000e-09 -0.000017\n",
       "2  0.002 -7.650000e-05  0.006806\n",
       "3  0.003 -2.157000e-04  0.019206\n",
       "4  0.004 -4.113000e-04  0.036630"
      ]
     },
     "execution_count": 86,
     "metadata": {},
     "output_type": "execute_result"
    }
   ],
   "source": [
    "train.head() "
   ]
  },
  {
   "cell_type": "code",
   "execution_count": 87,
   "metadata": {},
   "outputs": [
    {
     "data": {
      "text/plain": [
       "time        float64\n",
       "velocity    float64\n",
       "force       float64\n",
       "dtype: object"
      ]
     },
     "execution_count": 87,
     "metadata": {},
     "output_type": "execute_result"
    }
   ],
   "source": [
    " train.dtypes"
   ]
  },
  {
   "cell_type": "code",
   "execution_count": 88,
   "metadata": {},
   "outputs": [
    {
     "data": {
      "text/html": [
       "<div>\n",
       "<style scoped>\n",
       "    .dataframe tbody tr th:only-of-type {\n",
       "        vertical-align: middle;\n",
       "    }\n",
       "\n",
       "    .dataframe tbody tr th {\n",
       "        vertical-align: top;\n",
       "    }\n",
       "\n",
       "    .dataframe thead th {\n",
       "        text-align: right;\n",
       "    }\n",
       "</style>\n",
       "<table border=\"1\" class=\"dataframe\">\n",
       "  <thead>\n",
       "    <tr style=\"text-align: right;\">\n",
       "      <th></th>\n",
       "      <th>time</th>\n",
       "      <th>velocity</th>\n",
       "      <th>force</th>\n",
       "    </tr>\n",
       "  </thead>\n",
       "  <tbody>\n",
       "    <tr>\n",
       "      <th>time</th>\n",
       "      <td>1.00000</td>\n",
       "      <td>-0.014960</td>\n",
       "      <td>0.014950</td>\n",
       "    </tr>\n",
       "    <tr>\n",
       "      <th>velocity</th>\n",
       "      <td>-0.01496</td>\n",
       "      <td>1.000000</td>\n",
       "      <td>-0.999996</td>\n",
       "    </tr>\n",
       "    <tr>\n",
       "      <th>force</th>\n",
       "      <td>0.01495</td>\n",
       "      <td>-0.999996</td>\n",
       "      <td>1.000000</td>\n",
       "    </tr>\n",
       "  </tbody>\n",
       "</table>\n",
       "</div>"
      ],
      "text/plain": [
       "             time  velocity     force\n",
       "time      1.00000 -0.014960  0.014950\n",
       "velocity -0.01496  1.000000 -0.999996\n",
       "force     0.01495 -0.999996  1.000000"
      ]
     },
     "execution_count": 88,
     "metadata": {},
     "output_type": "execute_result"
    }
   ],
   "source": [
    "train.corr()\n"
   ]
  },
  {
   "cell_type": "code",
   "execution_count": 89,
   "metadata": {},
   "outputs": [],
   "source": [
    "#from sklearn.preprocessing import StandardScaler"
   ]
  },
  {
   "cell_type": "code",
   "execution_count": 90,
   "metadata": {},
   "outputs": [],
   "source": [
    "from sklearn.preprocessing import MinMaxScaler"
   ]
  },
  {
   "cell_type": "code",
   "execution_count": 91,
   "metadata": {},
   "outputs": [],
   "source": [
    "enc1=MinMaxScaler(feature_range=(0,1))\n",
    "# I added explicitly the range even if it's default\n"
   ]
  },
  {
   "cell_type": "code",
   "execution_count": 92,
   "metadata": {},
   "outputs": [],
   "source": [
    "def Reshape_input(train,transform_only):\n",
    "    # timestep = 10 moved outside, so if you change it you can adjust everything\n",
    "    \n",
    "    # I applied transform to y too\n",
    "    # Important points about LSTM models:\n",
    "    # - they predict time series: given n measures (e.g. 10 ) at time t1...tn \n",
    "    #     they compute pred. measure at time tn+1 (e.g. at t=11)\n",
    "    # - so the \"features\" are the n measures and the \"label\" is the n+1th measure (sliding along the data)\n",
    "    # - quite often they are used with time series consisting of 1 measure only, but we have 2 \n",
    "    #     (velocity and force)\n",
    "    # - so we have to use a 2-dimensional time series, and also velocities will be predicted...\n",
    "    \n",
    "    #X ,y = train.iloc[:,:1],train.iloc[timestep:,2]\n",
    "    X = train.iloc[:,1:]\n",
    "    if transform_only:\n",
    "        X= enc1.transform(X)\n",
    "    else:\n",
    "        X= enc1.fit_transform(X)\n",
    "#    X_3d = np.zeros((X.shape[0]-timestep,timestep,X.shape[1]))\n",
    "#    y = np.zeros((X.shape[0]-timestep,X.shape[1]))\n",
    "    X_3d = np.zeros((X.shape[0]-timestep,timestep,1))\n",
    "    y = np.zeros((X.shape[0]-timestep,1))\n",
    "    print(y.shape)\n",
    "    \n",
    "    for i in range(X_3d.shape[0]):\n",
    "        X_3d[i,:,0] = X[i:i+timestep,0]\n",
    "        y[i,0] = X[i+timestep,1]\n",
    "    return enc1, X_3d, y\n"
   ]
  },
  {
   "cell_type": "code",
   "execution_count": 93,
   "metadata": {},
   "outputs": [
    {
     "name": "stdout",
     "output_type": "stream",
     "text": [
      "(30000, 1)\n"
     ]
    }
   ],
   "source": [
    "enc1, X, y = Reshape_input(train,transform_only=False)"
   ]
  },
  {
   "cell_type": "code",
   "execution_count": 94,
   "metadata": {},
   "outputs": [
    {
     "data": {
      "text/plain": [
       "(30000, 1, 1)"
      ]
     },
     "execution_count": 94,
     "metadata": {},
     "output_type": "execute_result"
    }
   ],
   "source": [
    "X.shape"
   ]
  },
  {
   "cell_type": "code",
   "execution_count": 95,
   "metadata": {},
   "outputs": [
    {
     "name": "stdout",
     "output_type": "stream",
     "text": [
      "[[[0.49957592]]\n",
      "\n",
      " [[0.4995759 ]]]\n"
     ]
    }
   ],
   "source": [
    "print(X[0:2]) # to see that actually the 10 values of velocity \"slide\""
   ]
  },
  {
   "cell_type": "code",
   "execution_count": 96,
   "metadata": {},
   "outputs": [
    {
     "data": {
      "text/plain": [
       "(30000, 1)"
      ]
     },
     "execution_count": 96,
     "metadata": {},
     "output_type": "execute_result"
    }
   ],
   "source": [
    "y.shape"
   ]
  },
  {
   "cell_type": "code",
   "execution_count": 97,
   "metadata": {},
   "outputs": [
    {
     "name": "stdout",
     "output_type": "stream",
     "text": [
      "[[0.49934963]\n",
      " [0.49960732]]\n"
     ]
    }
   ],
   "source": [
    "print(y[0:2])  # this is force, nothing to do with the X values"
   ]
  },
  {
   "cell_type": "code",
   "execution_count": 98,
   "metadata": {},
   "outputs": [],
   "source": [
    "from keras.models import Sequential\n",
    "from keras.layers import *\n",
    "from keras.layers import LSTM\n",
    "from keras.layers import Activation\n",
    "from keras.optimizers import Adam, SGD\n",
    "from keras.callbacks import *\n",
    "model = Sequential()\n",
    "# I did not change the model here, just make some small experiments. \n",
    "# Probably you should compare the model and parameters to the ones you used in Matlab, and tune them a bit...\n",
    "# I tried also with recurrent_dropout = 0.1 (no better results)\n",
    "model.add(LSTM(18, input_shape=(X.shape[1], X.shape[2]), recurrent_dropout= 0))\n",
    "# From your messages I'd expect only the LSTM and one Dense for output, but I did not change here\n",
    "model.add(Dense(18,kernel_initializer='normal',activation='relu'))\n",
    "model.add(Dropout(0))\n",
    "# Here we need 2 because our data are velocity AND force!\n",
    "model.add(Dense(1))\n",
    "model.add(Dense(1,activation='linear'))\n",
    "# Iadded explicit lr to Adam optimizer, tried several values and \n",
    "#   varied also min_lr accordingly in ReduceRLOnPlateau; \n",
    "# I tried also with SGD (no better results)\n",
    "model.compile(Adam(lr=0.01), loss='mean_squared_error')\n",
    "\n",
    "checkpoint = ModelCheckpoint(filepath='model_lstm_yusra_weights.hdfs', save_weights_only=True,\n",
    "                             monitor='val_loss',save_best_only=True)\n",
    "EarlyStop = EarlyStopping(monitor='val_loss', min_delta=0, patience=4,\n",
    "                          verbose=0, mode='auto')\n",
    "# tried also with smaller min_lr\n",
    "RL = ReduceLROnPlateau(min_lr=0.0001,factor=0.3,patience=3)"
   ]
  },
  {
   "cell_type": "code",
   "execution_count": 99,
   "metadata": {},
   "outputs": [
    {
     "name": "stdout",
     "output_type": "stream",
     "text": [
      "Train on 22500 samples, validate on 7500 samples\n",
      "Epoch 1/100\n",
      "22500/22500 [==============================] - 2s 73us/step - loss: 0.0233 - val_loss: 0.0185\n",
      "Epoch 2/100\n",
      "22500/22500 [==============================] - 1s 41us/step - loss: 0.0118 - val_loss: 0.0118\n",
      "Epoch 3/100\n",
      "22500/22500 [==============================] - 1s 41us/step - loss: 0.0025 - val_loss: 3.2559e-04\n",
      "Epoch 4/100\n",
      "22500/22500 [==============================] - 1s 41us/step - loss: 1.3752e-04 - val_loss: 9.3932e-04\n",
      "Epoch 5/100\n",
      "22500/22500 [==============================] - 1s 41us/step - loss: 7.2881e-04 - val_loss: 0.0040\n",
      "Epoch 6/100\n",
      "22500/22500 [==============================] - 1s 41us/step - loss: 6.7205e-04 - val_loss: 0.0059\n",
      "Epoch 7/100\n",
      "22500/22500 [==============================] - 1s 40us/step - loss: 1.2480e-04 - val_loss: 4.6351e-05\n",
      "Epoch 8/100\n",
      "22500/22500 [==============================] - 1s 42us/step - loss: 2.1567e-05 - val_loss: 2.0340e-04\n",
      "Epoch 9/100\n",
      "22500/22500 [==============================] - 1s 42us/step - loss: 4.3102e-05 - val_loss: 3.8040e-04\n",
      "Epoch 10/100\n",
      "22500/22500 [==============================] - 1s 41us/step - loss: 6.7103e-05 - val_loss: 0.0010\n",
      "Epoch 11/100\n",
      "22500/22500 [==============================] - 1s 42us/step - loss: 2.7897e-05 - val_loss: 3.1061e-05\n",
      "Epoch 12/100\n",
      "22500/22500 [==============================] - 1s 42us/step - loss: 1.1504e-05 - val_loss: 6.9996e-05\n",
      "Epoch 13/100\n",
      "22500/22500 [==============================] - 1s 42us/step - loss: 1.8969e-05 - val_loss: 1.4726e-04\n",
      "Epoch 14/100\n",
      "22500/22500 [==============================] - 1s 42us/step - loss: 9.0321e-06 - val_loss: 1.3534e-05\n",
      "Epoch 15/100\n",
      "22500/22500 [==============================] - 1s 41us/step - loss: 7.4209e-06 - val_loss: 1.8534e-05\n",
      "Epoch 16/100\n",
      "22500/22500 [==============================] - 1s 41us/step - loss: 7.8043e-06 - val_loss: 2.1154e-05\n",
      "Epoch 17/100\n",
      "22500/22500 [==============================] - 1s 42us/step - loss: 5.5620e-06 - val_loss: 5.6975e-06\n",
      "Epoch 18/100\n",
      "22500/22500 [==============================] - 1s 44us/step - loss: 5.3391e-06 - val_loss: 6.2242e-06\n",
      "Epoch 19/100\n",
      "22500/22500 [==============================] - 1s 42us/step - loss: 5.3610e-06 - val_loss: 6.5596e-06\n",
      "Epoch 20/100\n",
      "22500/22500 [==============================] - 1s 43us/step - loss: 5.3559e-06 - val_loss: 6.7430e-06\n",
      "Epoch 21/100\n",
      "22500/22500 [==============================] - 1s 43us/step - loss: 5.3404e-06 - val_loss: 6.8330e-06\n"
     ]
    }
   ],
   "source": [
    "# tried with batch sizes 32, 64, 512, etc.; validation_split=0.2\n",
    "history = model.fit(X, y, epochs=100, batch_size=32,validation_split=0.25,\n",
    "                  verbose=1, shuffle=False,callbacks=[checkpoint,RL,EarlyStop])"
   ]
  },
  {
   "cell_type": "code",
   "execution_count": 100,
   "metadata": {},
   "outputs": [],
   "source": [
    "pp=model.predict(X) # now we get the prdictions (scaled velocities and forces)"
   ]
  },
  {
   "cell_type": "code",
   "execution_count": 101,
   "metadata": {},
   "outputs": [
    {
     "data": {
      "text/plain": [
       "7.14871875502154e-06"
      ]
     },
     "execution_count": 101,
     "metadata": {},
     "output_type": "execute_result"
    }
   ],
   "source": [
    "mean_squared_error(pp,y)\n",
    "\n",
    "# with timestep 10 I got here 2.7140929919153043e-06\n"
   ]
  },
  {
   "cell_type": "code",
   "execution_count": 102,
   "metadata": {},
   "outputs": [
    {
     "data": {
      "text/plain": [
       "0.0050116645869795196"
      ]
     },
     "execution_count": 102,
     "metadata": {},
     "output_type": "execute_result"
    }
   ],
   "source": [
    "# scale back and compute mse between force and predicted force\n",
    "#pp.shape\n",
    "pp_back=np.zeros((pp.shape[0],2))\n",
    "for i in range(pp.shape[0]):\n",
    "    pp_back[i,1] = pp[i]\n",
    "\n",
    "pp_back=enc1.inverse_transform(pp_back)\n",
    "#pp_back.shape\n",
    "mean_squared_error(pp_back[:,1],train[\"force\"][timestep:])\n",
    "\n",
    "# with timestep 10 I got here 0.0016335511228334893"
   ]
  },
  {
   "cell_type": "code",
   "execution_count": 103,
   "metadata": {},
   "outputs": [
    {
     "data": {
      "text/plain": [
       "'Step 2 - Make a dataframe with one  file from  Z=1.5'"
      ]
     },
     "execution_count": 103,
     "metadata": {},
     "output_type": "execute_result"
    }
   ],
   "source": [
    "\"\"\"Step 2 - Make a dataframe with one  file from  Z=1.5\"\"\""
   ]
  },
  {
   "cell_type": "code",
   "execution_count": 104,
   "metadata": {},
   "outputs": [],
   "source": [
    "test = pd.read_csv(\"experimental_data.csv\", sep=\",\")\n",
    "# using this file to test the model"
   ]
  },
  {
   "cell_type": "code",
   "execution_count": 105,
   "metadata": {},
   "outputs": [
    {
     "data": {
      "text/html": [
       "<div>\n",
       "<style scoped>\n",
       "    .dataframe tbody tr th:only-of-type {\n",
       "        vertical-align: middle;\n",
       "    }\n",
       "\n",
       "    .dataframe tbody tr th {\n",
       "        vertical-align: top;\n",
       "    }\n",
       "\n",
       "    .dataframe thead th {\n",
       "        text-align: right;\n",
       "    }\n",
       "</style>\n",
       "<table border=\"1\" class=\"dataframe\">\n",
       "  <thead>\n",
       "    <tr style=\"text-align: right;\">\n",
       "      <th></th>\n",
       "      <th>time</th>\n",
       "      <th>velocity</th>\n",
       "      <th>force</th>\n",
       "    </tr>\n",
       "  </thead>\n",
       "  <tbody>\n",
       "    <tr>\n",
       "      <th>0</th>\n",
       "      <td>0.000</td>\n",
       "      <td>0.0</td>\n",
       "      <td>0.0</td>\n",
       "    </tr>\n",
       "    <tr>\n",
       "      <th>1</th>\n",
       "      <td>0.001</td>\n",
       "      <td>0.0</td>\n",
       "      <td>0.0</td>\n",
       "    </tr>\n",
       "    <tr>\n",
       "      <th>2</th>\n",
       "      <td>0.002</td>\n",
       "      <td>0.0</td>\n",
       "      <td>0.0</td>\n",
       "    </tr>\n",
       "    <tr>\n",
       "      <th>3</th>\n",
       "      <td>0.003</td>\n",
       "      <td>0.0</td>\n",
       "      <td>0.0</td>\n",
       "    </tr>\n",
       "    <tr>\n",
       "      <th>4</th>\n",
       "      <td>0.004</td>\n",
       "      <td>0.0</td>\n",
       "      <td>0.0</td>\n",
       "    </tr>\n",
       "  </tbody>\n",
       "</table>\n",
       "</div>"
      ],
      "text/plain": [
       "    time  velocity  force\n",
       "0  0.000       0.0    0.0\n",
       "1  0.001       0.0    0.0\n",
       "2  0.002       0.0    0.0\n",
       "3  0.003       0.0    0.0\n",
       "4  0.004       0.0    0.0"
      ]
     },
     "execution_count": 105,
     "metadata": {},
     "output_type": "execute_result"
    }
   ],
   "source": [
    "test.head()"
   ]
  },
  {
   "cell_type": "code",
   "execution_count": 106,
   "metadata": {},
   "outputs": [
    {
     "data": {
      "text/plain": [
       "time        float64\n",
       "velocity    float64\n",
       "force       float64\n",
       "dtype: object"
      ]
     },
     "execution_count": 106,
     "metadata": {},
     "output_type": "execute_result"
    }
   ],
   "source": [
    "test.dtypes"
   ]
  },
  {
   "cell_type": "code",
   "execution_count": 107,
   "metadata": {},
   "outputs": [
    {
     "name": "stdout",
     "output_type": "stream",
     "text": [
      "(30000, 1)\n"
     ]
    }
   ],
   "source": [
    "enc1, X, y = Reshape_input(test,transform_only=False)"
   ]
  },
  {
   "cell_type": "code",
   "execution_count": 108,
   "metadata": {},
   "outputs": [],
   "source": [
    "#X = X.reshape((X.shape[0], 1, X.shape[1]))"
   ]
  },
  {
   "cell_type": "code",
   "execution_count": 109,
   "metadata": {},
   "outputs": [],
   "source": [
    "model.load_weights('model_lstm_yusra_weights.hdfs')"
   ]
  },
  {
   "cell_type": "code",
   "execution_count": 110,
   "metadata": {},
   "outputs": [],
   "source": [
    "pred1=model.predict(X)\n",
    "    "
   ]
  },
  {
   "cell_type": "code",
   "execution_count": 111,
   "metadata": {},
   "outputs": [
    {
     "data": {
      "text/plain": [
       "1.4351147268874845e-05"
      ]
     },
     "execution_count": 111,
     "metadata": {},
     "output_type": "execute_result"
    }
   ],
   "source": [
    "mean_squared_error(pred1,y)\n",
    "# with timestep 10 I got here 1.2209993163934232e-05"
   ]
  },
  {
   "cell_type": "code",
   "execution_count": 112,
   "metadata": {},
   "outputs": [
    {
     "data": {
      "text/plain": [
       "0.012734403901778744"
      ]
     },
     "execution_count": 112,
     "metadata": {},
     "output_type": "execute_result"
    }
   ],
   "source": [
    "\n",
    "pred1_back=np.zeros((pred1.shape[0],2))\n",
    "for i in range(pred1.shape[0]):\n",
    "    pred1_back[i,1] = pred1[i]\n",
    "\n",
    "pred1_back=enc1.inverse_transform(pred1_back)\n",
    "#pp_back.shape\n",
    "mean_squared_error(pred1_back[:,1],test[\"force\"][timestep:])\n",
    "\n",
    "# with timestep 10 I got here 0.010834463731322736"
   ]
  },
  {
   "cell_type": "code",
   "execution_count": 113,
   "metadata": {},
   "outputs": [
    {
     "data": {
      "image/png": "[encoded data removed]",
      "text/plain": [
       "<Figure size 432x288 with 1 Axes>"
      ]
     },
     "metadata": {
      "needs_background": "light"
     },
     "output_type": "display_data"
    }
   ],
   "source": [
    "from matplotlib  import pyplot  as plt\n",
    "fig, ax=plt.subplots()\n",
    "ax.plot(list(pred1[:]), label='prediction')\n",
    "ax.plot(list(y[:]), label='real')\n",
    "plt.legend()\n",
    "plt.show()"
   ]
  },
  {
   "cell_type": "code",
   "execution_count": 114,
   "metadata": {},
   "outputs": [
    {
     "data": {
      "image/png": "[encoded data removed]",
      "text/plain": [
       "<Figure size 432x288 with 1 Axes>"
      ]
     },
     "metadata": {
      "needs_background": "light"
     },
     "output_type": "display_data"
    }
   ],
   "source": [
    "fig, ax=plt.subplots()\n",
    "ax.scatter(y[:],pred1[:])\n",
    "ax.plot([y[:].min(), y[:].max()],[y[:].min(), y[:].max()],'k--', lw=4)\n",
    "ax.set_xlabel('Measured')\n",
    "ax.set_ylabel('Predicted')\n",
    "plt.show()"
   ]
  },
  {
   "cell_type": "code",
   "execution_count": 115,
   "metadata": {},
   "outputs": [],
   "source": [
    "pd.DataFrame({'real':list(test[\"force\"][timestep:]),'pred':list(pred1_back[:,1])} ) .to_csv('train_data_lstmyusra1.csv',index=False)"
   ]
  },
  {
   "cell_type": "code",
   "execution_count": 61,
   "metadata": {},
   "outputs": [],
   "source": [
    "\n",
    "\n",
    "#model.save('train_data_lstm_yusra.h5')\n",
    "\n"
   ]
  },
  {
   "cell_type": "code",
   "execution_count": null,
   "metadata": {},
   "outputs": [],
   "source": []
  },
  {
   "cell_type": "code",
   "execution_count": null,
   "metadata": {},
   "outputs": [],
   "source": []
  }
 ],
 "metadata": {
  "kernelspec": {
   "display_name": "Python 3",
   "language": "python",
   "name": "python3"
  },
  "language_info": {
   "codemirror_mode": {
    "name": "ipython",
    "version": 3
   },
   "file_extension": ".py",
   "mimetype": "text/x-python",
   "name": "python",
   "nbconvert_exporter": "python",
   "pygments_lexer": "ipython3",
   "version": "3.6.7"
  }
 },
 "nbformat": 4,
 "nbformat_minor": 2
}
